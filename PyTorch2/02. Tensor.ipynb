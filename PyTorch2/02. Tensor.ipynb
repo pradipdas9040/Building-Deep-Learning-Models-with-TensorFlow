{
 "cells": [
  {
   "cell_type": "code",
   "execution_count": 1,
   "id": "4613fda7",
   "metadata": {},
   "outputs": [],
   "source": [
    "import numpy as np\n",
    "import torch\n",
    "import seaborn as sns"
   ]
  },
  {
   "cell_type": "code",
   "execution_count": 2,
   "id": "8039f225",
   "metadata": {},
   "outputs": [],
   "source": [
    "x = torch.tensor(5.5)"
   ]
  },
  {
   "cell_type": "code",
   "execution_count": 3,
   "id": "c2573b24",
   "metadata": {},
   "outputs": [
    {
     "name": "stdout",
     "output_type": "stream",
     "text": [
      "tensor(15.5000)\n",
      "False\n"
     ]
    }
   ],
   "source": [
    "y = x + 10\n",
    "print(y)\n",
    "print(x.requires_grad)"
   ]
  },
  {
   "cell_type": "code",
   "execution_count": 4,
   "id": "05500a66",
   "metadata": {},
   "outputs": [
    {
     "name": "stdout",
     "output_type": "stream",
     "text": [
      "True\n"
     ]
    }
   ],
   "source": [
    "x = torch.tensor(2.0, requires_grad=True)\n",
    "print(x.requires_grad)"
   ]
  },
  {
   "cell_type": "code",
   "execution_count": 6,
   "id": "f9f27da5",
   "metadata": {},
   "outputs": [
    {
     "data": {
      "text/plain": [
       "<AxesSubplot:>"
      ]
     },
     "execution_count": 6,
     "metadata": {},
     "output_type": "execute_result"
    },
    {
     "data": {
      "image/png": "[encoded data removed]",
      "text/plain": [
       "<Figure size 432x288 with 1 Axes>"
      ]
     },
     "metadata": {
      "needs_background": "light"
     },
     "output_type": "display_data"
    }
   ],
   "source": [
    "def y_func(val):\n",
    "    return (val-3) * (val-6) * (val-4)\n",
    "\n",
    "x_range = np.linspace(-10, 15, 101)\n",
    "y_range = [y_func(x) for x in x_range]\n",
    "sns.lineplot(x=x_range, y=y_range)"
   ]
  },
  {
   "cell_type": "code",
   "execution_count": 7,
   "id": "a29000f9",
   "metadata": {},
   "outputs": [],
   "source": [
    "y = (x-3) * (x-6) * (x-4)\n",
    "y.backward()"
   ]
  },
  {
   "cell_type": "code",
   "execution_count": 8,
   "id": "59ecbc31",
   "metadata": {},
   "outputs": [
    {
     "name": "stdout",
     "output_type": "stream",
     "text": [
      "tensor(14.)\n"
     ]
    }
   ],
   "source": [
    "print(x.grad)"
   ]
  },
  {
   "cell_type": "code",
   "execution_count": 9,
   "id": "df2cbbe3",
   "metadata": {},
   "outputs": [],
   "source": [
    "x = torch.tensor(1.0, requires_grad=True)\n",
    "y = x**3\n",
    "z = 5*x-4\n",
    "z.backward()"
   ]
  },
  {
   "cell_type": "code",
   "execution_count": 11,
   "id": "c9b8d993",
   "metadata": {},
   "outputs": [
    {
     "name": "stdout",
     "output_type": "stream",
     "text": [
      "tensor(5.)\n"
     ]
    }
   ],
   "source": [
    "print(x.grad)"
   ]
  },
  {
   "cell_type": "code",
   "execution_count": 12,
   "id": "684818ad",
   "metadata": {},
   "outputs": [],
   "source": [
    "x11 = torch.tensor(2.0, requires_grad=True)\n",
    "x21 = torch.tensor(3.0, requires_grad=True)\n",
    "x12 = 5*x11 - 3*x21\n",
    "x22 = 2*x11**2 + 2*x21\n",
    "y = 4*x12 + 3*x22\n",
    "\n",
    "y.backward()"
   ]
  },
  {
   "cell_type": "code",
   "execution_count": 13,
   "id": "551eab28",
   "metadata": {},
   "outputs": [
    {
     "name": "stdout",
     "output_type": "stream",
     "text": [
      "tensor(44.)\n",
      "tensor(-6.)\n"
     ]
    }
   ],
   "source": [
    "print(x11.grad)\n",
    "print(x21.grad)"
   ]
  }
 ],
 "metadata": {
  "kernelspec": {
   "display_name": "Python 3 (ipykernel)",
   "language": "python",
   "name": "python3"
  },
  "language_info": {
   "codemirror_mode": {
    "name": "ipython",
    "version": 3
   },
   "file_extension": ".py",
   "mimetype": "text/x-python",
   "name": "python",
   "nbconvert_exporter": "python",
   "pygments_lexer": "ipython3",
   "version": "3.10.2"
  }
 },
 "nbformat": 4,
 "nbformat_minor": 5
}
