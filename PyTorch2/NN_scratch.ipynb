{
 "cells": [
  {
   "cell_type": "code",
   "execution_count": 1,
   "id": "0a4097b8",
   "metadata": {},
   "outputs": [],
   "source": [
    "import numpy as np\n",
    "import pandas as pd\n",
    "import seaborn as sns\n",
    "from sklearn.preprocessing import StandardScaler\n",
    "from sklearn.model_selection import train_test_split\n",
    "from sklearn import metrics\n",
    "import matplotlib.pyplot as plt"
   ]
  },
  {
   "cell_type": "code",
   "execution_count": 2,
   "id": "650f9316",
   "metadata": {},
   "outputs": [
    {
     "data": {
      "text/html": [
       "<div>\n",
       "<style scoped>\n",
       "    .dataframe tbody tr th:only-of-type {\n",
       "        vertical-align: middle;\n",
       "    }\n",
       "\n",
       "    .dataframe tbody tr th {\n",
       "        vertical-align: top;\n",
       "    }\n",
       "\n",
       "    .dataframe thead th {\n",
       "        text-align: right;\n",
       "    }\n",
       "</style>\n",
       "<table border=\"1\" class=\"dataframe\">\n",
       "  <thead>\n",
       "    <tr style=\"text-align: right;\">\n",
       "      <th></th>\n",
       "      <th>age</th>\n",
       "      <th>sex</th>\n",
       "      <th>cp</th>\n",
       "      <th>trtbps</th>\n",
       "      <th>chol</th>\n",
       "      <th>fbs</th>\n",
       "      <th>restecg</th>\n",
       "      <th>thalachh</th>\n",
       "      <th>exng</th>\n",
       "      <th>oldpeak</th>\n",
       "      <th>slp</th>\n",
       "      <th>caa</th>\n",
       "      <th>thall</th>\n",
       "      <th>output</th>\n",
       "    </tr>\n",
       "  </thead>\n",
       "  <tbody>\n",
       "    <tr>\n",
       "      <th>0</th>\n",
       "      <td>63</td>\n",
       "      <td>1</td>\n",
       "      <td>3</td>\n",
       "      <td>145</td>\n",
       "      <td>233</td>\n",
       "      <td>1</td>\n",
       "      <td>0</td>\n",
       "      <td>150</td>\n",
       "      <td>0</td>\n",
       "      <td>2.3</td>\n",
       "      <td>0</td>\n",
       "      <td>0</td>\n",
       "      <td>1</td>\n",
       "      <td>1</td>\n",
       "    </tr>\n",
       "    <tr>\n",
       "      <th>1</th>\n",
       "      <td>37</td>\n",
       "      <td>1</td>\n",
       "      <td>2</td>\n",
       "      <td>130</td>\n",
       "      <td>250</td>\n",
       "      <td>0</td>\n",
       "      <td>1</td>\n",
       "      <td>187</td>\n",
       "      <td>0</td>\n",
       "      <td>3.5</td>\n",
       "      <td>0</td>\n",
       "      <td>0</td>\n",
       "      <td>2</td>\n",
       "      <td>1</td>\n",
       "    </tr>\n",
       "    <tr>\n",
       "      <th>2</th>\n",
       "      <td>41</td>\n",
       "      <td>0</td>\n",
       "      <td>1</td>\n",
       "      <td>130</td>\n",
       "      <td>204</td>\n",
       "      <td>0</td>\n",
       "      <td>0</td>\n",
       "      <td>172</td>\n",
       "      <td>0</td>\n",
       "      <td>1.4</td>\n",
       "      <td>2</td>\n",
       "      <td>0</td>\n",
       "      <td>2</td>\n",
       "      <td>1</td>\n",
       "    </tr>\n",
       "    <tr>\n",
       "      <th>3</th>\n",
       "      <td>56</td>\n",
       "      <td>1</td>\n",
       "      <td>1</td>\n",
       "      <td>120</td>\n",
       "      <td>236</td>\n",
       "      <td>0</td>\n",
       "      <td>1</td>\n",
       "      <td>178</td>\n",
       "      <td>0</td>\n",
       "      <td>0.8</td>\n",
       "      <td>2</td>\n",
       "      <td>0</td>\n",
       "      <td>2</td>\n",
       "      <td>1</td>\n",
       "    </tr>\n",
       "    <tr>\n",
       "      <th>4</th>\n",
       "      <td>57</td>\n",
       "      <td>0</td>\n",
       "      <td>0</td>\n",
       "      <td>120</td>\n",
       "      <td>354</td>\n",
       "      <td>0</td>\n",
       "      <td>1</td>\n",
       "      <td>163</td>\n",
       "      <td>1</td>\n",
       "      <td>0.6</td>\n",
       "      <td>2</td>\n",
       "      <td>0</td>\n",
       "      <td>2</td>\n",
       "      <td>1</td>\n",
       "    </tr>\n",
       "  </tbody>\n",
       "</table>\n",
       "</div>"
      ],
      "text/plain": [
       "   age  sex  cp  trtbps  chol  fbs  restecg  thalachh  exng  oldpeak  slp  \\\n",
       "0   63    1   3     145   233    1        0       150     0      2.3    0   \n",
       "1   37    1   2     130   250    0        1       187     0      3.5    0   \n",
       "2   41    0   1     130   204    0        0       172     0      1.4    2   \n",
       "3   56    1   1     120   236    0        1       178     0      0.8    2   \n",
       "4   57    0   0     120   354    0        1       163     1      0.6    2   \n",
       "\n",
       "   caa  thall  output  \n",
       "0    0      1       1  \n",
       "1    0      2       1  \n",
       "2    0      2       1  \n",
       "3    0      2       1  \n",
       "4    0      2       1  "
      ]
     },
     "execution_count": 2,
     "metadata": {},
     "output_type": "execute_result"
    }
   ],
   "source": [
    "# source: https://www.kaggle.com/datasets/rashikrahmanpritom/heart-attack-analysis-prediction-dataset?resource=download\n",
    "df = pd.read_csv('heart.csv')\n",
    "df.head()"
   ]
  },
  {
   "cell_type": "code",
   "execution_count": 3,
   "id": "acfefc94",
   "metadata": {},
   "outputs": [
    {
     "name": "stdout",
     "output_type": "stream",
     "text": [
      "shape of X:(303, 13), y:(303,)\"\n"
     ]
    }
   ],
   "source": [
    "X = np.array(df.loc[:, df.columns!='output'])\n",
    "y = np.array(df['output'])\n",
    "print(f'shape of X:{X.shape}, y:{y.shape}\"')"
   ]
  },
  {
   "cell_type": "code",
   "execution_count": 4,
   "id": "3d66de36",
   "metadata": {},
   "outputs": [],
   "source": [
    "x_train, x_test, y_train, y_test = train_test_split(X, y, test_size=0.2, random_state=200)"
   ]
  },
  {
   "cell_type": "code",
   "execution_count": 5,
   "id": "6e6516f1",
   "metadata": {},
   "outputs": [],
   "source": [
    "scaler = StandardScaler()\n",
    "x_train_scale = scaler.fit_transform(x_train)\n",
    "x_test_scale = scaler.fit_transform(x_test)"
   ]
  },
  {
   "cell_type": "code",
   "execution_count": 6,
   "id": "6071ade4",
   "metadata": {},
   "outputs": [],
   "source": [
    "class NeuralNet:\n",
    "    def __init__(self, lr, x_train, x_test, y_train, y_test):\n",
    "        self.w = np.random.randn(x_train.shape[1])\n",
    "        self.b = np.random.randn()\n",
    "        self.lr = lr\n",
    "        self.x_train = x_train\n",
    "        self.y_train = y_train\n",
    "        self.x_test = x_test\n",
    "        self.y_test = y_train\n",
    "        self.L_train = []\n",
    "        self.L_test = []\n",
    "    \n",
    "    def activation(self, x):\n",
    "        '''sigmoid activation'''\n",
    "        return 1 / (1+np.exp(-x))\n",
    "    \n",
    "    def dactivation(self, x):\n",
    "        '''derivative of sigmoid'''\n",
    "        return self.activation(x) * (1-self.activation(x))\n",
    "    \n",
    "    def forward(self, x):\n",
    "        '''forward psss'''\n",
    "        hidden_1 = np.dot(x, self.w) + self.b\n",
    "        ac_1 = self.activation(hidden_1)\n",
    "        return ac_1\n",
    "    \n",
    "    def backward(self, X, y_true):\n",
    "        '''backward pass'''\n",
    "        # calc gradients\n",
    "        hidden_1 = np.dot(X, self.w) + self.b\n",
    "        y_pred = self.forward(X)\n",
    "        dL_dpred = 2 * (y_pred - y_true)\n",
    "        dpred_dhidden1 = self.dactivation(hidden_1)\n",
    "        dhidden1_db = 1\n",
    "        dhidden1_dw = X\n",
    "\n",
    "        dL_db = dL_dpred * dpred_dhidden1 * dhidden1_db\n",
    "        dL_dw = dL_dpred * dpred_dhidden1 * dhidden1_dw\n",
    "        return dL_db, dL_dw\n",
    "    \n",
    "    def optimizer(self, dl_db, dl_dw):\n",
    "        self.b = self.b - lr*dl_db\n",
    "        self.w = self.w - lr*dl_dw\n",
    "    \n",
    "    def train(self, epoches):\n",
    "        for epoch in range(1, epoches+1):\n",
    "            # random position\n",
    "            random_pos = np.random.randint(len(self.x_train))\n",
    "            \n",
    "            # forward pass\n",
    "            y_train_true = self.y_train[random_pos]\n",
    "            y_train_pred = self.forward(self.x_train[random_pos])\n",
    "            \n",
    "            # training loss\n",
    "            L = np.sum(np.square(y_train_true - y_train_pred))\n",
    "            self.L_train.append(L)\n",
    "            \n",
    "            # gradients\n",
    "            dl_db, dl_dw = self.backward(self.x_train[random_pos], self.y_train[random_pos])\n",
    "            \n",
    "            #  update\n",
    "            self.optimizer(dl_db, dl_dw)\n",
    "            \n",
    "            # error of test data\n",
    "            L_sum = 0\n",
    "            for j in range(len(self.x_test)):\n",
    "                y_true = self.y_test[j]\n",
    "                y_pred = self.forward(self.x_test[j])\n",
    "                L_sum += np.square(y_pred - y_true)\n",
    "            self.L_test.append(L_sum)\n",
    "            \n",
    "            if epoch%100 == 0:\n",
    "                print(f'epoch {epoch}: train loss: {L:.4f}, test loss: {L_sum}')"
   ]
  },
  {
   "cell_type": "code",
   "execution_count": 7,
   "id": "a80bff3e",
   "metadata": {},
   "outputs": [
    {
     "name": "stdout",
     "output_type": "stream",
     "text": [
      "epoch 100: train loss: 0.009853803736807316, test loss: 26.532501065700774\n",
      "epoch 200: train loss: 0.005047845509578844, test loss: 26.89652644540871\n",
      "epoch 300: train loss: 0.8719930738109736, test loss: 26.535476759898025\n",
      "epoch 400: train loss: 0.0001215921255512537, test loss: 26.292871372654556\n",
      "epoch 500: train loss: 0.02707933026277785, test loss: 25.894422043011286\n",
      "epoch 600: train loss: 0.9709501990934313, test loss: 26.01691701165761\n",
      "epoch 700: train loss: 2.256678604687226e-05, test loss: 25.72817612015665\n",
      "epoch 800: train loss: 0.009950267334232574, test loss: 25.62814370447596\n",
      "epoch 900: train loss: 2.249241014178594e-06, test loss: 25.677211050790532\n",
      "epoch 1000: train loss: 0.5513395965308387, test loss: 25.247867141992987\n"
     ]
    }
   ],
   "source": [
    "lr = 0.1\n",
    "epoches = 1000\n",
    "\n",
    "nn = NeuralNet(lr=lr, x_train=x_train_scale, x_test=x_test_scale, y_train=y_train, y_test=y_test)\n",
    "nn.train(epoches=epoches)"
   ]
  },
  {
   "cell_type": "code",
   "execution_count": 8,
   "id": "e978e596",
   "metadata": {},
   "outputs": [
    {
     "data": {
      "text/plain": [
       "<AxesSubplot:>"
      ]
     },
     "execution_count": 8,
     "metadata": {},
     "output_type": "execute_result"
    },
    {
     "data": {
      "image/png": "[encoded data removed]",
      "text/plain": [
       "<Figure size 432x288 with 1 Axes>"
      ]
     },
     "metadata": {
      "needs_background": "light"
     },
     "output_type": "display_data"
    }
   ],
   "source": [
    "sns.lineplot(x=list(range(len(nn.L_test))), y=nn.L_test)"
   ]
  },
  {
   "cell_type": "code",
   "execution_count": 9,
   "id": "001ca321",
   "metadata": {},
   "outputs": [
    {
     "name": "stdout",
     "output_type": "stream",
     "text": [
      "test accuracy: 0.8360655737704918\n"
     ]
    }
   ],
   "source": [
    "# iterate over test data\n",
    "total = x_test_scale.shape[0]\n",
    "correct = 0\n",
    "y_preds = []\n",
    "for i in range(total):\n",
    "    y_true = y_test[i]\n",
    "    y_pred = np.round(nn.forward(x_test_scale[i]))\n",
    "    y_preds.append(y_pred)\n",
    "    correct += 1 if y_true == y_pred else 0\n",
    "    \n",
    "# Calculate Accuracy\n",
    "acc = correct / total\n",
    "print(f'test accuracy: {acc}')"
   ]
  },
  {
   "cell_type": "code",
   "execution_count": 10,
   "id": "0e7b097b",
   "metadata": {},
   "outputs": [
    {
     "data": {
      "text/plain": [
       "Counter({0: 32, 1: 29})"
      ]
     },
     "execution_count": 10,
     "metadata": {},
     "output_type": "execute_result"
    }
   ],
   "source": [
    "# Baseline Classifier\n",
    "from collections import Counter\n",
    "Counter(y_test)"
   ]
  },
  {
   "cell_type": "code",
   "execution_count": 11,
   "id": "1bf86120",
   "metadata": {},
   "outputs": [
    {
     "data": {
      "image/png": "[encoded data removed]",
      "text/plain": [
       "<Figure size 432x288 with 2 Axes>"
      ]
     },
     "metadata": {
      "needs_background": "light"
     },
     "output_type": "display_data"
    }
   ],
   "source": [
    "# Confusion Matrix\n",
    "confusion_matrix = metrics.confusion_matrix(y_true = y_test, y_pred = y_preds)\n",
    "cm_display = metrics.ConfusionMatrixDisplay(confusion_matrix = confusion_matrix, display_labels = [0, 1])\n",
    "\n",
    "cm_display.plot()\n",
    "plt.show()"
   ]
  },
  {
   "cell_type": "code",
   "execution_count": null,
   "id": "d104de83",
   "metadata": {},
   "outputs": [],
   "source": []
  }
 ],
 "metadata": {
  "kernelspec": {
   "display_name": "Python 3 (ipykernel)",
   "language": "python",
   "name": "python3"
  },
  "language_info": {
   "codemirror_mode": {
    "name": "ipython",
    "version": 3
   },
   "file_extension": ".py",
   "mimetype": "text/x-python",
   "name": "python",
   "nbconvert_exporter": "python",
   "pygments_lexer": "ipython3",
   "version": "3.10.2"
  }
 },
 "nbformat": 4,
 "nbformat_minor": 5
}
