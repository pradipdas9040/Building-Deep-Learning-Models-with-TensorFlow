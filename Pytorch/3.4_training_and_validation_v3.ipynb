{
 "cells": [
  {
   "cell_type": "markdown",
   "metadata": {},
   "source": [
    "<p style=\"text-align:center\">\n",
    "    <a href=\"https://skills.network\" target=\"_blank\">\n",
    "    <img src=\"https://cf-courses-data.s3.us.cloud-object-storage.appdomain.cloud/assets/logos/SN_web_lightmode.png\" width=\"200\" alt=\"Skills Network Logo\">\n",
    "    </a>\n",
    "</p>\n"
   ]
  },
  {
   "cell_type": "markdown",
   "metadata": {},
   "source": [
    "<h1>Linear regression: Training and Validation Data</h1> \n"
   ]
  },
  {
   "cell_type": "markdown",
   "metadata": {},
   "source": [
    "<h2>Objective</h2><ul><li> How to use learning rate hyperparameter to improve your model result.  .</li></ul> \n"
   ]
  },
  {
   "cell_type": "markdown",
   "metadata": {},
   "source": [
    "<h2>Table of Contents</h2>\n",
    "<p>In this lab, you will learn to select the best learning rate by using validation data.</p>\n",
    "\n",
    "<ul>\n",
    "    <li><a href=\"#Makeup_Data\">Make Some Data</a></li>\n",
    "    <li><a href=\"#LR_Loader_Cost\">Create a Linear Regression Object, Data Loader and Criterion Function</a></li>\n",
    "    <li><a href=\"#LR_Hyper\">Different learning rates and Data Structures to Store results for Different Hyperparameters</a></li>\n",
    "    <li><a href=\"#Model\">Train different modules for different Hyperparameters</a></li>\n",
    "    <li><a href=\"#Result\">View Results</a></li>\n",
    "</ul>\n",
    "\n",
    "<p>Estimated Time Needed: <strong>30 min</strong></p>\n",
    "\n",
    "<hr>\n"
   ]
  },
  {
   "cell_type": "markdown",
   "metadata": {},
   "source": [
    "<h2>Preparation</h2>\n"
   ]
  },
  {
   "cell_type": "markdown",
   "metadata": {},
   "source": [
    "We'll need the following libraries and set the random seed.\n"
   ]
  },
  {
   "cell_type": "code",
   "execution_count": 1,
   "metadata": {
    "tags": []
   },
   "outputs": [],
   "source": [
    "# Import libraries we need for this lab, and set the random seed\n",
    "\n",
    "from torch import nn\n",
    "import torch\n",
    "import numpy as np\n",
    "import matplotlib.pyplot as plt\n",
    "from torch import nn,optim"
   ]
  },
  {
   "cell_type": "markdown",
   "metadata": {},
   "source": [
    "<!--Empty Space for separating topics-->\n"
   ]
  },
  {
   "cell_type": "markdown",
   "metadata": {},
   "source": [
    "<h2 id=\"Makeup_Data\">Make Some Data</h2>\n"
   ]
  },
  {
   "cell_type": "markdown",
   "metadata": {},
   "source": [
    "First, we'll create some artificial data in a dataset class. The class will include the option to produce training data or validation data. The training data will include outliers.\n"
   ]
  },
  {
   "cell_type": "code",
   "execution_count": 2,
   "metadata": {
    "tags": []
   },
   "outputs": [],
   "source": [
    "# Create Data class\n",
    "\n",
    "from torch.utils.data import Dataset, DataLoader\n",
    "\n",
    "class Data(Dataset):\n",
    "    \n",
    "    # Constructor\n",
    "    def __init__(self, train = True):\n",
    "            self.x = torch.arange(-3, 3, 0.1).view(-1, 1)\n",
    "            self.f = -3 * self.x + 1\n",
    "            self.y = self.f + 0.1 * torch.randn(self.x.size())\n",
    "            self.len = self.x.shape[0]\n",
    "            \n",
    "            #outliers \n",
    "            if train == True:\n",
    "                self.y[0] = 0\n",
    "                self.y[50:55] = 20\n",
    "            else:\n",
    "                pass\n",
    "      \n",
    "    # Getter\n",
    "    def __getitem__(self, index):    \n",
    "        return self.x[index], self.y[index]\n",
    "    \n",
    "    # Get Length\n",
    "    def __len__(self):\n",
    "        return self.len"
   ]
  },
  {
   "cell_type": "markdown",
   "metadata": {},
   "source": [
    "Create two objects: one that contains training data and a second that contains validation data. Assume that the training data has the outliers. \n"
   ]
  },
  {
   "cell_type": "code",
   "execution_count": 3,
   "metadata": {
    "tags": []
   },
   "outputs": [],
   "source": [
    "# Create training dataset and validation dataset\n",
    "\n",
    "train_data = Data()\n",
    "val_data = Data(train = False)"
   ]
  },
  {
   "cell_type": "markdown",
   "metadata": {},
   "source": [
    "Overlay the training points in red over the function that generated the data. Notice the outliers at x=-3 and around x=2:\n"
   ]
  },
  {
   "cell_type": "code",
   "execution_count": 4,
   "metadata": {
    "tags": []
   },
   "outputs": [
    {
     "data": {
      "image/png": "[encoded data removed]",
      "text/plain": [
       "<Figure size 640x480 with 1 Axes>"
      ]
     },
     "metadata": {},
     "output_type": "display_data"
    }
   ],
   "source": [
    "# Plot out training points\n",
    "\n",
    "plt.plot(train_data.x.numpy(), train_data.y.numpy(), 'xr',label=\"training data \")\n",
    "plt.plot(train_data.x.numpy(), train_data.f.numpy(),label=\"true function  \")\n",
    "plt.xlabel('x')\n",
    "plt.ylabel('y')\n",
    "plt.legend()\n",
    "plt.show()"
   ]
  },
  {
   "cell_type": "markdown",
   "metadata": {},
   "source": [
    "<!--Empty Space for separating topics-->\n"
   ]
  },
  {
   "cell_type": "markdown",
   "metadata": {},
   "source": [
    "<h2 id=\"LR_Loader_Cost\">Create a Linear Regression Object,  Data Loader, and Criterion Function</h2>\n"
   ]
  },
  {
   "cell_type": "code",
   "execution_count": 5,
   "metadata": {
    "tags": []
   },
   "outputs": [],
   "source": [
    "# Create Linear Regression Class\n",
    "\n",
    "from torch import nn\n",
    "\n",
    "class linear_regression(nn.Module):\n",
    "    \n",
    "    # Constructor\n",
    "    def __init__(self, input_size, output_size):\n",
    "        super(linear_regression, self).__init__()\n",
    "        self.linear = nn.Linear(input_size, output_size)\n",
    "    \n",
    "    # Prediction function\n",
    "    def forward(self, x):\n",
    "        yhat = self.linear(x)\n",
    "        return yhat"
   ]
  },
  {
   "cell_type": "markdown",
   "metadata": {},
   "source": [
    "Create the criterion function and a <code>DataLoader</code> object: \n"
   ]
  },
  {
   "cell_type": "code",
   "execution_count": 6,
   "metadata": {
    "tags": []
   },
   "outputs": [],
   "source": [
    "# Create MSELoss function and DataLoader\n",
    "\n",
    "criterion = nn.MSELoss()\n",
    "trainloader = DataLoader(dataset = train_data, batch_size = 1)"
   ]
  },
  {
   "cell_type": "markdown",
   "metadata": {},
   "source": [
    "<!--Empty Space for separating topics-->\n"
   ]
  },
  {
   "cell_type": "markdown",
   "metadata": {},
   "source": [
    "<h2 id=\"LR_Hyper\">Different learning rates and Data Structures to Store results for different Hyperparameters</h2>\n"
   ]
  },
  {
   "cell_type": "markdown",
   "metadata": {},
   "source": [
    "Create a list with different learning rates and a tensor (can be a list) for the training and validating cost/total loss. Include the list MODELS, which stores the training model for every value of the learning rate. \n"
   ]
  },
  {
   "cell_type": "code",
   "execution_count": 7,
   "metadata": {
    "tags": []
   },
   "outputs": [],
   "source": [
    "# Create Learning Rate list, the error lists and the MODELS list\n",
    "\n",
    "learning_rates=[0.0001, 0.001, 0.01, 0.1]\n",
    "\n",
    "train_error=torch.zeros(len(learning_rates))\n",
    "validation_error=torch.zeros(len(learning_rates))\n",
    "\n",
    "MODELS=[]"
   ]
  },
  {
   "cell_type": "markdown",
   "metadata": {},
   "source": [
    "<!--Empty Space for separating topics-->\n"
   ]
  },
  {
   "cell_type": "markdown",
   "metadata": {},
   "source": [
    "<h2 id=\"Model\">Train different models  for different Hyperparameters</h2>\n"
   ]
  },
  {
   "cell_type": "markdown",
   "metadata": {},
   "source": [
    "Try different values of learning rates, perform stochastic gradient descent, and save the results on the training data and validation data. Finally, save each model in a list.\n"
   ]
  },
  {
   "cell_type": "code",
   "execution_count": 8,
   "metadata": {
    "tags": []
   },
   "outputs": [],
   "source": [
    "# Define the train model function and train the model\n",
    "\n",
    "def train_model_with_lr (iter, lr_list):\n",
    "    \n",
    "    # iterate through different learning rates \n",
    "    for i, lr in enumerate(lr_list):\n",
    "        model = linear_regression(1, 1)\n",
    "        optimizer = optim.SGD(model.parameters(), lr = lr)\n",
    "        for epoch in range(iter):\n",
    "            for x, y in trainloader:\n",
    "                yhat = model(x)\n",
    "                loss = criterion(yhat, y)\n",
    "                optimizer.zero_grad()\n",
    "                loss.backward()\n",
    "                optimizer.step()\n",
    "                \n",
    "        # train data\n",
    "        Yhat = model(train_data.x)\n",
    "        train_loss = criterion(Yhat, train_data.y)\n",
    "        train_error[i] = train_loss.item()\n",
    "    \n",
    "        # validation data\n",
    "        Yhat = model(val_data.x)\n",
    "        val_loss = criterion(Yhat, val_data.y)\n",
    "        validation_error[i] = val_loss.item()\n",
    "        MODELS.append(model)\n",
    "\n",
    "train_model_with_lr(10, learning_rates)"
   ]
  },
  {
   "cell_type": "markdown",
   "metadata": {},
   "source": [
    "<!--Empty Space for separating topics-->\n"
   ]
  },
  {
   "cell_type": "markdown",
   "metadata": {},
   "source": [
    "<h2 id=\"Result\">View the Results</h2>\n"
   ]
  },
  {
   "cell_type": "markdown",
   "metadata": {},
   "source": [
    "Plot the training loss and validation loss for each learning rate:  \n"
   ]
  },
  {
   "cell_type": "code",
   "execution_count": 9,
   "metadata": {
    "tags": []
   },
   "outputs": [
    {
     "data": {
      "image/png": "[encoded data removed]",
      "text/plain": [
       "<Figure size 640x480 with 1 Axes>"
      ]
     },
     "metadata": {},
     "output_type": "display_data"
    }
   ],
   "source": [
    "# Plot the training loss and validation loss\n",
    "\n",
    "plt.semilogx(np.array(learning_rates), train_error.numpy(), label = 'training loss/total Loss')\n",
    "plt.semilogx(np.array(learning_rates), validation_error.numpy(), label = 'validation cost/total Loss')\n",
    "plt.ylabel('Cost\\ Total Loss')\n",
    "plt.xlabel('learning rate')\n",
    "plt.legend()\n",
    "plt.show()"
   ]
  },
  {
   "cell_type": "markdown",
   "metadata": {},
   "source": [
    "Produce a prediction by using the validation data for each model:  \n"
   ]
  },
  {
   "cell_type": "code",
   "execution_count": 10,
   "metadata": {
    "tags": []
   },
   "outputs": [
    {
     "name": "stdout",
     "output_type": "stream",
     "text": [
      "0 [[1.4456505]\n",
      " [1.3843327]\n",
      " [1.3230146]]\n",
      "1 [[5.724609]\n",
      " [5.609695]\n",
      " [5.494781]]\n",
      "2 [[6.6160803]\n",
      " [6.480859 ]\n",
      " [6.3456373]]\n",
      "3 [[14.530326]\n",
      " [14.093625]\n",
      " [13.656923]]\n"
     ]
    },
    {
     "data": {
      "image/png": "[encoded data removed]",
      "text/plain": [
       "<Figure size 640x480 with 1 Axes>"
      ]
     },
     "metadata": {},
     "output_type": "display_data"
    }
   ],
   "source": [
    "# Plot the predictions\n",
    "\n",
    "i = 0\n",
    "for model, learning_rate in zip(MODELS, learning_rates):\n",
    "    yhat = model(val_data.x)\n",
    "    plt.plot(val_data.x.numpy(), yhat.detach().numpy(), label = 'lr:' + str(learning_rate))\n",
    "    print(i, yhat.detach().numpy()[0:3])\n",
    "    i+=1\n",
    "plt.plot(val_data.x.numpy(), val_data.f.numpy(), 'or', label = 'validation data')\n",
    "plt.xlabel('x')\n",
    "plt.ylabel('y')\n",
    "plt.legend()\n",
    "plt.show()"
   ]
  },
  {
   "cell_type": "markdown",
   "metadata": {},
   "source": [
    "<!--Empty Space for separating topics-->\n"
   ]
  },
  {
   "cell_type": "markdown",
   "metadata": {},
   "source": [
    "<h3>Practice</h3>\n"
   ]
  },
  {
   "cell_type": "markdown",
   "metadata": {},
   "source": [
    "The object <code>good_model</code> is the best performing model. Use the train loader to get the data samples x and y. Produce an estimate for <code>yhat</code> and print it out for every sample in a for a loop. Compare it to the actual prediction <code>y</code>.\n"
   ]
  },
  {
   "cell_type": "code",
   "execution_count": 11,
   "metadata": {
    "tags": []
   },
   "outputs": [
    {
     "name": "stdout",
     "output_type": "stream",
     "text": [
      "yhat=  tensor([[14.5303]], grad_fn=<AddmmBackward0>) y tensor([[0.]])\n",
      "yhat=  tensor([[14.0936]], grad_fn=<AddmmBackward0>) y tensor([[9.7313]])\n",
      "yhat=  tensor([[13.6569]], grad_fn=<AddmmBackward0>) y tensor([[9.5005]])\n",
      "yhat=  tensor([[13.2202]], grad_fn=<AddmmBackward0>) y tensor([[9.3126]])\n",
      "yhat=  tensor([[12.7835]], grad_fn=<AddmmBackward0>) y tensor([[8.6935]])\n",
      "yhat=  tensor([[12.3468]], grad_fn=<AddmmBackward0>) y tensor([[8.5459]])\n",
      "yhat=  tensor([[11.9101]], grad_fn=<AddmmBackward0>) y tensor([[8.0309]])\n",
      "yhat=  tensor([[11.4734]], grad_fn=<AddmmBackward0>) y tensor([[7.9176]])\n",
      "yhat=  tensor([[11.0367]], grad_fn=<AddmmBackward0>) y tensor([[7.7516]])\n",
      "yhat=  tensor([[10.6000]], grad_fn=<AddmmBackward0>) y tensor([[7.2523]])\n",
      "yhat=  tensor([[10.1633]], grad_fn=<AddmmBackward0>) y tensor([[7.0933]])\n",
      "yhat=  tensor([[9.7266]], grad_fn=<AddmmBackward0>) y tensor([[6.7783]])\n",
      "yhat=  tensor([[9.2899]], grad_fn=<AddmmBackward0>) y tensor([[6.2539]])\n",
      "yhat=  tensor([[8.8532]], grad_fn=<AddmmBackward0>) y tensor([[6.0373]])\n",
      "yhat=  tensor([[8.4165]], grad_fn=<AddmmBackward0>) y tensor([[5.6736]])\n",
      "yhat=  tensor([[7.9798]], grad_fn=<AddmmBackward0>) y tensor([[5.3932]])\n",
      "yhat=  tensor([[7.5431]], grad_fn=<AddmmBackward0>) y tensor([[5.0917]])\n",
      "yhat=  tensor([[7.1064]], grad_fn=<AddmmBackward0>) y tensor([[4.7434]])\n",
      "yhat=  tensor([[6.6697]], grad_fn=<AddmmBackward0>) y tensor([[4.5510]])\n",
      "yhat=  tensor([[6.2330]], grad_fn=<AddmmBackward0>) y tensor([[4.2483]])\n",
      "yhat=  tensor([[5.7963]], grad_fn=<AddmmBackward0>) y tensor([[4.0972]])\n",
      "yhat=  tensor([[5.3596]], grad_fn=<AddmmBackward0>) y tensor([[3.8067]])\n",
      "yhat=  tensor([[4.9229]], grad_fn=<AddmmBackward0>) y tensor([[3.4798]])\n",
      "yhat=  tensor([[4.4862]], grad_fn=<AddmmBackward0>) y tensor([[3.2453]])\n",
      "yhat=  tensor([[4.0495]], grad_fn=<AddmmBackward0>) y tensor([[2.6978]])\n",
      "yhat=  tensor([[3.6128]], grad_fn=<AddmmBackward0>) y tensor([[2.6143]])\n",
      "yhat=  tensor([[3.1761]], grad_fn=<AddmmBackward0>) y tensor([[2.2204]])\n",
      "yhat=  tensor([[2.7394]], grad_fn=<AddmmBackward0>) y tensor([[1.9199]])\n",
      "yhat=  tensor([[2.3027]], grad_fn=<AddmmBackward0>) y tensor([[1.5596]])\n",
      "yhat=  tensor([[1.8660]], grad_fn=<AddmmBackward0>) y tensor([[1.2804]])\n",
      "yhat=  tensor([[1.4293]], grad_fn=<AddmmBackward0>) y tensor([[0.9758]])\n",
      "yhat=  tensor([[0.9926]], grad_fn=<AddmmBackward0>) y tensor([[0.7896]])\n",
      "yhat=  tensor([[0.5559]], grad_fn=<AddmmBackward0>) y tensor([[0.3004]])\n",
      "yhat=  tensor([[0.1192]], grad_fn=<AddmmBackward0>) y tensor([[0.2967]])\n",
      "yhat=  tensor([[-0.3175]], grad_fn=<AddmmBackward0>) y tensor([[-0.3791]])\n",
      "yhat=  tensor([[-0.7542]], grad_fn=<AddmmBackward0>) y tensor([[-0.4180]])\n",
      "yhat=  tensor([[-1.1909]], grad_fn=<AddmmBackward0>) y tensor([[-0.6700]])\n",
      "yhat=  tensor([[-1.6276]], grad_fn=<AddmmBackward0>) y tensor([[-1.2054]])\n",
      "yhat=  tensor([[-2.0643]], grad_fn=<AddmmBackward0>) y tensor([[-1.5140]])\n",
      "yhat=  tensor([[-2.5010]], grad_fn=<AddmmBackward0>) y tensor([[-1.5899]])\n",
      "yhat=  tensor([[-2.9377]], grad_fn=<AddmmBackward0>) y tensor([[-2.0856]])\n",
      "yhat=  tensor([[-3.3744]], grad_fn=<AddmmBackward0>) y tensor([[-2.2515]])\n",
      "yhat=  tensor([[-3.8111]], grad_fn=<AddmmBackward0>) y tensor([[-2.5738]])\n",
      "yhat=  tensor([[-4.2478]], grad_fn=<AddmmBackward0>) y tensor([[-2.9764]])\n",
      "yhat=  tensor([[-4.6845]], grad_fn=<AddmmBackward0>) y tensor([[-3.2784]])\n",
      "yhat=  tensor([[-5.1212]], grad_fn=<AddmmBackward0>) y tensor([[-3.6609]])\n",
      "yhat=  tensor([[-5.5579]], grad_fn=<AddmmBackward0>) y tensor([[-3.7367]])\n",
      "yhat=  tensor([[-5.9946]], grad_fn=<AddmmBackward0>) y tensor([[-3.9573]])\n",
      "yhat=  tensor([[-6.4313]], grad_fn=<AddmmBackward0>) y tensor([[-4.3097]])\n",
      "yhat=  tensor([[-6.8680]], grad_fn=<AddmmBackward0>) y tensor([[-4.7239]])\n",
      "yhat=  tensor([[-7.3047]], grad_fn=<AddmmBackward0>) y tensor([[20.]])\n",
      "yhat=  tensor([[-7.7414]], grad_fn=<AddmmBackward0>) y tensor([[20.]])\n",
      "yhat=  tensor([[-8.1781]], grad_fn=<AddmmBackward0>) y tensor([[20.]])\n",
      "yhat=  tensor([[-8.6148]], grad_fn=<AddmmBackward0>) y tensor([[20.]])\n",
      "yhat=  tensor([[-9.0515]], grad_fn=<AddmmBackward0>) y tensor([[20.]])\n",
      "yhat=  tensor([[-9.4882]], grad_fn=<AddmmBackward0>) y tensor([[-6.5540]])\n",
      "yhat=  tensor([[-9.9249]], grad_fn=<AddmmBackward0>) y tensor([[-6.8247]])\n",
      "yhat=  tensor([[-10.3617]], grad_fn=<AddmmBackward0>) y tensor([[-7.1488]])\n",
      "yhat=  tensor([[-10.7984]], grad_fn=<AddmmBackward0>) y tensor([[-7.4594]])\n",
      "yhat=  tensor([[-11.2351]], grad_fn=<AddmmBackward0>) y tensor([[-7.7972]])\n"
     ]
    }
   ],
   "source": [
    "good_model = MODELS[np.argmin(validation_error)]\n",
    "\n",
    "for x, y in trainloader:\n",
    "    print(\"yhat= \", model(x),\"y\", y)"
   ]
  },
  {
   "cell_type": "markdown",
   "metadata": {},
   "source": [
    "<!--Empty Space for separating topics-->\n"
   ]
  },
  {
   "cell_type": "markdown",
   "metadata": {},
   "source": [
    "<h2>About the Authors:</h2> \n",
    "\n",
    "<a href=\"https://www.linkedin.com/in/joseph-s-50398b136/\">Joseph Santarcangelo</a> has a PhD in Electrical Engineering, his research focused on using machine learning, signal processing, and computer vision to determine how videos impact human cognition. Joseph has been working for IBM since he completed his PhD. \n"
   ]
  },
  {
   "cell_type": "markdown",
   "metadata": {},
   "source": [
    "Other contributors: <a href=\"https://www.linkedin.com/in/michelleccarey/\">Michelle Carey</a>, <a href=\"www.linkedin.com/in/jiahui-mavis-zhou-a4537814a\">Mavis Zhou</a>\n"
   ]
  },
  {
   "cell_type": "markdown",
   "metadata": {},
   "source": [
    "<!--\n",
    "## Change Log\n",
    "\n",
    "|  Date (YYYY-MM-DD) |  Version | Changed By  |  Change Description |\n",
    "|---|---|---|---|\n",
    "| 2020-09-23  | 2.0  | Shubham  |  Migrated Lab to Markdown and added to course repo in GitLab |\n",
    "\n",
    "-->\n"
   ]
  },
  {
   "cell_type": "markdown",
   "metadata": {},
   "source": [
    "<hr>\n"
   ]
  },
  {
   "cell_type": "markdown",
   "metadata": {},
   "source": [
    "\n",
    "\n",
    "\n",
    "## <h3 align=\"center\"> &#169; IBM Corporation. All rights reserved. <h3/>\n"
   ]
  }
 ],
 "metadata": {
  "kernelspec": {
   "display_name": "Python",
   "language": "python",
   "name": "conda-env-python-py"
  },
  "language_info": {
   "codemirror_mode": {
    "name": "ipython",
    "version": 3
   },
   "file_extension": ".py",
   "mimetype": "text/x-python",
   "name": "python",
   "nbconvert_exporter": "python",
   "pygments_lexer": "ipython3",
   "version": "3.7.12"
  }
 },
 "nbformat": 4,
 "nbformat_minor": 4
}
