{
 "cells": [
  {
   "cell_type": "markdown",
   "metadata": {},
   "source": [
    "<p style=\"text-align:center\">\n",
    "    <a href=\"https://skills.network\" target=\"_blank\">\n",
    "    <img src=\"https://cf-courses-data.s3.us.cloud-object-storage.appdomain.cloud/assets/logos/SN_web_lightmode.png\" width=\"200\" alt=\"Skills Network Logo\">\n",
    "    </a>\n",
    "</p>\n"
   ]
  },
  {
   "cell_type": "markdown",
   "metadata": {},
   "source": [
    "<h1>Test Uniform, Default and He Initialization on MNIST Dataset with Relu Activation</h1>\n"
   ]
  },
  {
   "cell_type": "markdown",
   "metadata": {},
   "source": [
    "\n",
    "<h3>Objective for this Notebook<h3>    \n",
    "<h5> 1. Learn how to Define Several Neural Network, Criterion function, Optimizer.</h5>\n",
    "<h5> 2. Test Uniform, Default and He Initialization </h5>   \n",
    "\n"
   ]
  },
  {
   "cell_type": "markdown",
   "metadata": {},
   "source": [
    "<h2>Table of Contents</h2>\n",
    "<p>In this lab, you will test the Uniform Initialization, Default Initialization and He Initialization on the MNIST dataset with Relu Activation</p>\n",
    "\n",
    "<ul>\n",
    "    <li><a href=\"#Model\">Neural Network Module and Training Function</a></li>\n",
    "    <li><a href=\"#Makeup_Data\">Make Some Data</a></li>\n",
    "    <li><a href=\"#Cost\">Define Several Neural Network, Criterion function, Optimizer</a></li>\n",
    "    <li><a href=\"#Train\">Test Uniform, Default and He Initialization</a></li>\n",
    "    <li><a href=\"#Result\">Analyze Results</a></li>\n",
    "</ul>\n",
    "<p>Estimated Time Needed: <strong>25 min</strong></p>\n",
    "\n",
    "<hr>\n"
   ]
  },
  {
   "cell_type": "markdown",
   "metadata": {},
   "source": [
    "<h2>Preparation</h2>\n"
   ]
  },
  {
   "cell_type": "markdown",
   "metadata": {},
   "source": [
    "We'll need the following libraries:  \n"
   ]
  },
  {
   "cell_type": "code",
   "execution_count": 1,
   "metadata": {
    "tags": []
   },
   "outputs": [
    {
     "data": {
      "text/plain": [
       "<torch._C.Generator at 0x7fdc4c0b2d30>"
      ]
     },
     "execution_count": 1,
     "metadata": {},
     "output_type": "execute_result"
    }
   ],
   "source": [
    "# Import the libraries we need to use in this lab\n",
    "\n",
    "# Using the following line code to install the torchvision library\n",
    "# !mamba install -y torchvision\n",
    "\n",
    "import torch \n",
    "import torch.nn as nn\n",
    "import torchvision.transforms as transforms\n",
    "import torchvision.datasets as dsets\n",
    "import torch.nn.functional as F\n",
    "import matplotlib.pylab as plt\n",
    "import numpy as np\n",
    "\n",
    "torch.manual_seed(0)"
   ]
  },
  {
   "cell_type": "markdown",
   "metadata": {},
   "source": [
    "<!--Empty Space for separating topics-->\n"
   ]
  },
  {
   "cell_type": "markdown",
   "metadata": {},
   "source": [
    "<h2 id=\"Model\">Neural Network Module and Training Function</h2> \n"
   ]
  },
  {
   "cell_type": "markdown",
   "metadata": {},
   "source": [
    "Define the neural network module or class with He Initialization\n"
   ]
  },
  {
   "cell_type": "code",
   "execution_count": 2,
   "metadata": {
    "tags": []
   },
   "outputs": [],
   "source": [
    "# Define the class for neural network model with He Initialization\n",
    "\n",
    "class Net_He(nn.Module):\n",
    "    \n",
    "    # Constructor\n",
    "    def __init__(self, Layers):\n",
    "        super(Net_He, self).__init__()\n",
    "        self.hidden = nn.ModuleList()\n",
    "\n",
    "        for input_size, output_size in zip(Layers, Layers[1:]):\n",
    "            linear = nn.Linear(input_size, output_size)\n",
    "            torch.nn.init.kaiming_uniform_(linear.weight, nonlinearity='relu')\n",
    "            self.hidden.append(linear)\n",
    "\n",
    "    # Prediction\n",
    "    def forward(self, x):\n",
    "        L = len(self.hidden)\n",
    "        for (l, linear_transform) in zip(range(L), self.hidden):\n",
    "            if l < L - 1:\n",
    "                x = F.relu(linear_transform(x))\n",
    "            else:\n",
    "                x = linear_transform(x)\n",
    "        return x"
   ]
  },
  {
   "cell_type": "markdown",
   "metadata": {},
   "source": [
    "Define the class or neural network with Uniform Initialization\n"
   ]
  },
  {
   "cell_type": "code",
   "execution_count": 3,
   "metadata": {
    "tags": []
   },
   "outputs": [],
   "source": [
    "# Define the class for neural network model with Uniform Initialization\n",
    "\n",
    "class Net_Uniform(nn.Module):\n",
    "    \n",
    "    # Constructor\n",
    "    def __init__(self, Layers):\n",
    "        super(Net_Uniform, self).__init__()\n",
    "        self.hidden = nn.ModuleList()\n",
    "\n",
    "        for input_size, output_size in zip(Layers, Layers[1:]):\n",
    "            linear = nn.Linear(input_size,output_size)\n",
    "            linear.weight.data.uniform_(0, 1)\n",
    "            self.hidden.append(linear)\n",
    "    \n",
    "    # Prediction\n",
    "    def forward(self, x):\n",
    "        L = len(self.hidden)\n",
    "        for (l, linear_transform) in zip(range(L), self.hidden):\n",
    "            if l < L - 1:\n",
    "                x = F.relu(linear_transform(x))\n",
    "            else:\n",
    "                x = linear_transform(x)\n",
    "                \n",
    "        return x"
   ]
  },
  {
   "cell_type": "markdown",
   "metadata": {},
   "source": [
    "Class or Neural Network with PyTorch Default Initialization\n"
   ]
  },
  {
   "cell_type": "code",
   "execution_count": 4,
   "metadata": {
    "tags": []
   },
   "outputs": [],
   "source": [
    "# Define the class for neural network model with PyTorch Default Initialization\n",
    "\n",
    "class Net(nn.Module):\n",
    "    \n",
    "    # Constructor\n",
    "    def __init__(self, Layers):\n",
    "        super(Net, self).__init__()\n",
    "        self.hidden = nn.ModuleList()\n",
    "\n",
    "        for input_size, output_size in zip(Layers, Layers[1:]):\n",
    "            linear = nn.Linear(input_size, output_size)\n",
    "            self.hidden.append(linear)\n",
    "        \n",
    "    def forward(self, x):\n",
    "        L=len(self.hidden)\n",
    "        for (l, linear_transform) in zip(range(L), self.hidden):\n",
    "            if l < L - 1:\n",
    "                x = F.relu(linear_transform(x))\n",
    "            else:\n",
    "                x = linear_transform(x)\n",
    "                \n",
    "        return x"
   ]
  },
  {
   "cell_type": "markdown",
   "metadata": {},
   "source": [
    "Define a function to train the model, in this case the function returns a Python dictionary to store the training loss and accuracy on the validation data \n"
   ]
  },
  {
   "cell_type": "code",
   "execution_count": 5,
   "metadata": {
    "tags": []
   },
   "outputs": [],
   "source": [
    "# Define function to  train model\n",
    "\n",
    "def train(model, criterion, train_loader, validation_loader, optimizer, epochs = 100):\n",
    "    i = 0\n",
    "    loss_accuracy = {'training_loss': [], 'validation_accuracy': []}  \n",
    "    \n",
    "    #n_epochs\n",
    "    for epoch in range(epochs):\n",
    "        total = 0\n",
    "        for i, (x, y) in enumerate(train_loader):\n",
    "            optimizer.zero_grad()\n",
    "            z = model(x.view(-1, 28 * 28))\n",
    "            loss = criterion(z, y)\n",
    "            loss.backward()\n",
    "            optimizer.step()\n",
    "            total += loss.item()\n",
    "        loss_accuracy['training_loss'].append(total)\n",
    "        \n",
    "        train_correct = 0\n",
    "        for x, y in train_loader:\n",
    "            yhat = model(x.view(-1, 28 * 28))\n",
    "            _, label = torch.max(yhat, 1)\n",
    "            train_correct += (label == y).sum().item()\n",
    "        train_accuracy = 100 * (train_correct / len(train_dataset))\n",
    "        \n",
    "        correct = 0\n",
    "        for x, y in validation_loader:\n",
    "            yhat = model(x.view(-1, 28 * 28))\n",
    "            _, label = torch.max(yhat, 1)\n",
    "            correct += (label == y).sum().item()\n",
    "        accuracy = 100 * (correct / len(validation_dataset))\n",
    "        loss_accuracy['validation_accuracy'].append(accuracy)\n",
    "        print(f'epoch {epoch}: train loss: {total:.4f}, train accuracy: {train_accuracy:.4f}, validation accuracy: {accuracy:.4f}')\n",
    "    \n",
    "    return loss_accuracy"
   ]
  },
  {
   "cell_type": "markdown",
   "metadata": {},
   "source": [
    "<!--Empty Space for separating topics-->\n"
   ]
  },
  {
   "cell_type": "markdown",
   "metadata": {},
   "source": [
    "<h2 id=\"Makeup_Data\">Make some Data</h2> \n"
   ]
  },
  {
   "cell_type": "markdown",
   "metadata": {},
   "source": [
    "Load the training dataset by setting the parameters <code>train </code> to <code>True</code> and convert it to a tensor  by placing a transform object int the argument <code>transform</code>\n"
   ]
  },
  {
   "cell_type": "code",
   "execution_count": 6,
   "metadata": {
    "tags": []
   },
   "outputs": [],
   "source": [
    "# Create the training dataset\n",
    "\n",
    "train_dataset = dsets.MNIST(root='./data', train=True, download=True, transform=transforms.ToTensor())"
   ]
  },
  {
   "cell_type": "markdown",
   "metadata": {},
   "source": [
    "Load the testing dataset by setting the parameters train  <code>False</code> and convert it to a tensor  by placing a transform object int the argument <code>transform</code>\n"
   ]
  },
  {
   "cell_type": "code",
   "execution_count": 7,
   "metadata": {
    "tags": []
   },
   "outputs": [],
   "source": [
    "# Create the validation dataset\n",
    "\n",
    "validation_dataset = dsets.MNIST(root='./data', train=False, download=True, transform=transforms.ToTensor())"
   ]
  },
  {
   "cell_type": "markdown",
   "metadata": {},
   "source": [
    "Create the training-data loader and the validation-data loader object \n"
   ]
  },
  {
   "cell_type": "code",
   "execution_count": 8,
   "metadata": {
    "tags": []
   },
   "outputs": [],
   "source": [
    "# Create the data loader for training and validation\n",
    "\n",
    "train_loader = torch.utils.data.DataLoader(dataset=train_dataset, batch_size=2000, shuffle=True)\n",
    "validation_loader = torch.utils.data.DataLoader(dataset=validation_dataset, batch_size=5000, shuffle=False)"
   ]
  },
  {
   "cell_type": "markdown",
   "metadata": {},
   "source": [
    "<!--Empty Space for separating topics-->\n"
   ]
  },
  {
   "cell_type": "markdown",
   "metadata": {},
   "source": [
    "<h2 id=\"Cost\">Define Neural Network, Criterion function, Optimizer and Train the Model</h2> \n"
   ]
  },
  {
   "cell_type": "markdown",
   "metadata": {},
   "source": [
    "Create the criterion function  \n"
   ]
  },
  {
   "cell_type": "code",
   "execution_count": 9,
   "metadata": {
    "tags": []
   },
   "outputs": [],
   "source": [
    "# Create the criterion function\n",
    "\n",
    "criterion = nn.CrossEntropyLoss()"
   ]
  },
  {
   "cell_type": "markdown",
   "metadata": {},
   "source": [
    "Create a list that contains layer size \n"
   ]
  },
  {
   "cell_type": "code",
   "execution_count": 10,
   "metadata": {
    "tags": []
   },
   "outputs": [],
   "source": [
    "# Create the parameters\n",
    "\n",
    "input_dim = 28 * 28\n",
    "output_dim = 10\n",
    "layers = [input_dim, 100, 200, 100, output_dim]"
   ]
  },
  {
   "cell_type": "markdown",
   "metadata": {},
   "source": [
    "<!--Empty Space for separating topics-->\n"
   ]
  },
  {
   "cell_type": "markdown",
   "metadata": {},
   "source": [
    "<h2 id=\"Train\">Test PyTorch Default Initialization, Xavier Initialization and Uniform Initialization</h2> \n"
   ]
  },
  {
   "cell_type": "markdown",
   "metadata": {},
   "source": [
    "Train the network using PyTorch Default Initialization\n"
   ]
  },
  {
   "cell_type": "code",
   "execution_count": 11,
   "metadata": {
    "tags": []
   },
   "outputs": [
    {
     "name": "stdout",
     "output_type": "stream",
     "text": [
      "epoch 0: train loss: 69.1157, train accuracy: 9.0417, validation accuracy: 8.9200\n",
      "epoch 1: train loss: 69.0573, train accuracy: 9.6667, validation accuracy: 9.6200\n",
      "epoch 2: train loss: 68.9978, train accuracy: 13.1333, validation accuracy: 12.8900\n",
      "epoch 3: train loss: 68.9361, train accuracy: 18.9117, validation accuracy: 18.8900\n",
      "epoch 4: train loss: 68.8715, train accuracy: 24.2383, validation accuracy: 24.2800\n",
      "epoch 5: train loss: 68.8034, train accuracy: 26.3933, validation accuracy: 26.2600\n",
      "epoch 6: train loss: 68.7308, train accuracy: 26.5083, validation accuracy: 26.2700\n",
      "epoch 7: train loss: 68.6528, train accuracy: 25.8217, validation accuracy: 25.9500\n",
      "epoch 8: train loss: 68.5676, train accuracy: 25.1183, validation accuracy: 25.4300\n",
      "epoch 9: train loss: 68.4736, train accuracy: 24.7583, validation accuracy: 25.2000\n",
      "epoch 10: train loss: 68.3699, train accuracy: 27.4417, validation accuracy: 28.2400\n",
      "epoch 11: train loss: 68.2557, train accuracy: 30.4750, validation accuracy: 31.1700\n",
      "epoch 12: train loss: 68.1288, train accuracy: 31.9733, validation accuracy: 32.6800\n",
      "epoch 13: train loss: 67.9858, train accuracy: 32.5633, validation accuracy: 33.3600\n",
      "epoch 14: train loss: 67.8233, train accuracy: 32.6467, validation accuracy: 33.5100\n",
      "epoch 15: train loss: 67.6372, train accuracy: 32.5200, validation accuracy: 33.2300\n",
      "epoch 16: train loss: 67.4227, train accuracy: 32.1467, validation accuracy: 33.0400\n",
      "epoch 17: train loss: 67.1734, train accuracy: 31.8933, validation accuracy: 32.6800\n",
      "epoch 18: train loss: 66.8817, train accuracy: 31.7633, validation accuracy: 32.5800\n",
      "epoch 19: train loss: 66.5386, train accuracy: 31.8383, validation accuracy: 32.5700\n",
      "epoch 20: train loss: 66.1328, train accuracy: 32.0933, validation accuracy: 32.8100\n",
      "epoch 21: train loss: 65.6515, train accuracy: 32.5567, validation accuracy: 33.4300\n",
      "epoch 22: train loss: 65.0802, train accuracy: 33.2517, validation accuracy: 34.3900\n",
      "epoch 23: train loss: 64.4058, train accuracy: 34.4150, validation accuracy: 35.9400\n",
      "epoch 24: train loss: 63.6178, train accuracy: 36.3217, validation accuracy: 37.8400\n",
      "epoch 25: train loss: 62.7089, train accuracy: 38.4683, validation accuracy: 40.2600\n",
      "epoch 26: train loss: 61.6757, train accuracy: 41.1100, validation accuracy: 42.7300\n",
      "epoch 27: train loss: 60.5166, train accuracy: 43.9417, validation accuracy: 45.6200\n",
      "epoch 28: train loss: 59.2275, train accuracy: 46.5650, validation accuracy: 48.1400\n",
      "epoch 29: train loss: 57.7953, train accuracy: 49.2600, validation accuracy: 51.3400\n"
     ]
    }
   ],
   "source": [
    "# Train the model with the default initialization\n",
    "\n",
    "model = Net(layers)\n",
    "learning_rate = 0.01\n",
    "optimizer = torch.optim.SGD(model.parameters(), lr=learning_rate)\n",
    "training_results = train(model, criterion, train_loader,validation_loader, optimizer, epochs=30)"
   ]
  },
  {
   "cell_type": "markdown",
   "metadata": {},
   "source": [
    "Train the network using He Initialization function\n"
   ]
  },
  {
   "cell_type": "code",
   "execution_count": 12,
   "metadata": {},
   "outputs": [
    {
     "name": "stdout",
     "output_type": "stream",
     "text": [
      "epoch 0: train loss: 67.8108, train accuracy: 29.5367, validation accuracy: 29.6800\n",
      "epoch 1: train loss: 62.1594, train accuracy: 45.8000, validation accuracy: 46.6200\n",
      "epoch 2: train loss: 55.7441, train accuracy: 57.7400, validation accuracy: 58.9400\n",
      "epoch 3: train loss: 48.2872, train accuracy: 65.7767, validation accuracy: 67.3800\n",
      "epoch 4: train loss: 40.6485, train accuracy: 71.2217, validation accuracy: 72.6300\n",
      "epoch 5: train loss: 33.9873, train accuracy: 75.5800, validation accuracy: 77.0300\n",
      "epoch 6: train loss: 28.8311, train accuracy: 78.4400, validation accuracy: 79.8000\n",
      "epoch 7: train loss: 25.0389, train accuracy: 80.6083, validation accuracy: 81.7200\n",
      "epoch 8: train loss: 22.2566, train accuracy: 82.2900, validation accuracy: 83.3300\n",
      "epoch 9: train loss: 20.1740, train accuracy: 83.3967, validation accuracy: 84.2600\n",
      "epoch 10: train loss: 18.5677, train accuracy: 84.5500, validation accuracy: 85.2100\n",
      "epoch 11: train loss: 17.2998, train accuracy: 85.4000, validation accuracy: 85.9200\n",
      "epoch 12: train loss: 16.2783, train accuracy: 86.1217, validation accuracy: 86.5400\n",
      "epoch 13: train loss: 15.4397, train accuracy: 86.5600, validation accuracy: 87.1000\n",
      "epoch 14: train loss: 14.7422, train accuracy: 86.9967, validation accuracy: 87.6900\n",
      "epoch 15: train loss: 14.1554, train accuracy: 87.3933, validation accuracy: 88.1500\n",
      "epoch 16: train loss: 13.6471, train accuracy: 87.7117, validation accuracy: 88.4300\n",
      "epoch 17: train loss: 13.2099, train accuracy: 88.0917, validation accuracy: 88.7400\n",
      "epoch 18: train loss: 12.8260, train accuracy: 88.3500, validation accuracy: 88.8600\n",
      "epoch 19: train loss: 12.4864, train accuracy: 88.5900, validation accuracy: 89.1000\n",
      "epoch 20: train loss: 12.1815, train accuracy: 88.7883, validation accuracy: 89.2400\n",
      "epoch 21: train loss: 11.9092, train accuracy: 89.0033, validation accuracy: 89.3500\n",
      "epoch 22: train loss: 11.6592, train accuracy: 89.2417, validation accuracy: 89.7100\n",
      "epoch 23: train loss: 11.4334, train accuracy: 89.4033, validation accuracy: 89.7300\n",
      "epoch 24: train loss: 11.2248, train accuracy: 89.5533, validation accuracy: 89.9700\n",
      "epoch 25: train loss: 11.0314, train accuracy: 89.6867, validation accuracy: 90.0700\n",
      "epoch 26: train loss: 10.8567, train accuracy: 89.8733, validation accuracy: 90.2100\n",
      "epoch 27: train loss: 10.6877, train accuracy: 89.9617, validation accuracy: 90.2100\n",
      "epoch 28: train loss: 10.5328, train accuracy: 90.1100, validation accuracy: 90.3900\n",
      "epoch 29: train loss: 10.3833, train accuracy: 90.2217, validation accuracy: 90.5200\n"
     ]
    }
   ],
   "source": [
    "# Train the model with the He initialization\n",
    "\n",
    "model_He = Net_He(layers)\n",
    "optimizer = torch.optim.SGD(model_He.parameters(), lr=learning_rate)\n",
    "training_results_He = train(model_He, criterion, train_loader, validation_loader, optimizer, epochs=30)"
   ]
  },
  {
   "cell_type": "markdown",
   "metadata": {},
   "source": [
    "Train the network using Uniform Initialization function\n"
   ]
  },
  {
   "cell_type": "code",
   "execution_count": 13,
   "metadata": {},
   "outputs": [
    {
     "name": "stdout",
     "output_type": "stream",
     "text": [
      "epoch 0: train loss: 1686476.8029, train accuracy: 9.9433, validation accuracy: 10.3200\n",
      "epoch 1: train loss: 69.1133, train accuracy: 9.9433, validation accuracy: 10.3200\n",
      "epoch 2: train loss: 69.1083, train accuracy: 9.9433, validation accuracy: 10.3200\n",
      "epoch 3: train loss: 69.1035, train accuracy: 9.9433, validation accuracy: 10.3200\n",
      "epoch 4: train loss: 69.0990, train accuracy: 9.9433, validation accuracy: 10.3200\n",
      "epoch 5: train loss: 69.0948, train accuracy: 9.9433, validation accuracy: 10.3200\n",
      "epoch 6: train loss: 69.0908, train accuracy: 9.9433, validation accuracy: 10.3200\n",
      "epoch 7: train loss: 69.0871, train accuracy: 9.9433, validation accuracy: 10.3200\n",
      "epoch 8: train loss: 69.0835, train accuracy: 9.9433, validation accuracy: 10.3200\n",
      "epoch 9: train loss: 69.0802, train accuracy: 9.9433, validation accuracy: 10.3200\n",
      "epoch 10: train loss: 69.0771, train accuracy: 9.9433, validation accuracy: 10.3200\n",
      "epoch 11: train loss: 69.0741, train accuracy: 9.9433, validation accuracy: 10.3200\n",
      "epoch 12: train loss: 69.0713, train accuracy: 11.2500, validation accuracy: 11.3500\n",
      "epoch 13: train loss: 69.0687, train accuracy: 11.2500, validation accuracy: 11.3500\n",
      "epoch 14: train loss: 69.0662, train accuracy: 11.2500, validation accuracy: 11.3500\n",
      "epoch 15: train loss: 69.0639, train accuracy: 11.2500, validation accuracy: 11.3500\n",
      "epoch 16: train loss: 69.0617, train accuracy: 11.2500, validation accuracy: 11.3500\n",
      "epoch 17: train loss: 69.0596, train accuracy: 11.2500, validation accuracy: 11.3500\n",
      "epoch 18: train loss: 69.0576, train accuracy: 11.2500, validation accuracy: 11.3500\n",
      "epoch 19: train loss: 69.0558, train accuracy: 11.2500, validation accuracy: 11.3500\n",
      "epoch 20: train loss: 69.0541, train accuracy: 11.2500, validation accuracy: 11.3500\n",
      "epoch 21: train loss: 69.0524, train accuracy: 11.2500, validation accuracy: 11.3500\n",
      "epoch 22: train loss: 69.0509, train accuracy: 11.2500, validation accuracy: 11.3500\n",
      "epoch 23: train loss: 69.0494, train accuracy: 11.2500, validation accuracy: 11.3500\n",
      "epoch 24: train loss: 69.0481, train accuracy: 11.2500, validation accuracy: 11.3500\n",
      "epoch 25: train loss: 69.0468, train accuracy: 11.2500, validation accuracy: 11.3500\n",
      "epoch 26: train loss: 69.0456, train accuracy: 11.2500, validation accuracy: 11.3500\n",
      "epoch 27: train loss: 69.0444, train accuracy: 11.2500, validation accuracy: 11.3500\n",
      "epoch 28: train loss: 69.0433, train accuracy: 11.2500, validation accuracy: 11.3500\n",
      "epoch 29: train loss: 69.0423, train accuracy: 11.2500, validation accuracy: 11.3500\n"
     ]
    }
   ],
   "source": [
    "# Train the model with the Uniform initialization\n",
    "\n",
    "model_Uniform = Net_Uniform(layers)\n",
    "optimizer = torch.optim.SGD(model_Uniform.parameters(), lr=learning_rate)\n",
    "training_results_Uniform = train(model_Uniform, criterion, train_loader, validation_loader, optimizer, epochs=30)"
   ]
  },
  {
   "cell_type": "markdown",
   "metadata": {},
   "source": [
    "<!--Empty Space for separating topics-->\n"
   ]
  },
  {
   "cell_type": "markdown",
   "metadata": {},
   "source": [
    "<h2 id=\"Result\">Analyze Results</h2> \n"
   ]
  },
  {
   "cell_type": "markdown",
   "metadata": {},
   "source": [
    "Compare the training loss for each activation \n"
   ]
  },
  {
   "cell_type": "code",
   "execution_count": 14,
   "metadata": {},
   "outputs": [
    {
     "data": {
      "text/plain": [
       "<matplotlib.legend.Legend at 0x7fdc06c59110>"
      ]
     },
     "execution_count": 14,
     "metadata": {},
     "output_type": "execute_result"
    },
    {
     "data": {
      "image/png": "[encoded data removed]",
      "text/plain": [
       "<Figure size 640x480 with 1 Axes>"
      ]
     },
     "metadata": {},
     "output_type": "display_data"
    }
   ],
   "source": [
    "# Plot the loss\n",
    "\n",
    "plt.plot(training_results_He['training_loss'], label='He')\n",
    "plt.plot(training_results['training_loss'], label='Default')\n",
    "plt.plot(training_results_Uniform['training_loss'], label='Uniform')\n",
    "plt.ylabel('loss')\n",
    "plt.xlabel('iteration ') \n",
    "plt.title('training loss iterations')\n",
    "plt.legend()"
   ]
  },
  {
   "cell_type": "markdown",
   "metadata": {},
   "source": [
    "Compare the validation loss for each model  \n"
   ]
  },
  {
   "cell_type": "code",
   "execution_count": 15,
   "metadata": {},
   "outputs": [
    {
     "data": {
      "image/png": "[encoded data removed]",
      "text/plain": [
       "<Figure size 640x480 with 1 Axes>"
      ]
     },
     "metadata": {},
     "output_type": "display_data"
    }
   ],
   "source": [
    "# Plot the accuracy\n",
    "\n",
    "plt.plot(training_results_He['validation_accuracy'], label='He')\n",
    "plt.plot(training_results['validation_accuracy'], label='Default')\n",
    "plt.plot(training_results_Uniform['validation_accuracy'], label='Uniform') \n",
    "plt.ylabel('validation accuracy')\n",
    "plt.xlabel('epochs ')   \n",
    "plt.legend()\n",
    "plt.show()"
   ]
  },
  {
   "cell_type": "markdown",
   "metadata": {},
   "source": [
    "<!--Empty Space for separating topics-->\n"
   ]
  },
  {
   "cell_type": "markdown",
   "metadata": {},
   "source": [
    "<h2>About the Authors:</h2> \n",
    "\n",
    "<a href=\"https://www.linkedin.com/in/joseph-s-50398b136/\">Joseph Santarcangelo</a> has a PhD in Electrical Engineering, his research focused on using machine learning, signal processing, and computer vision to determine how videos impact human cognition. Joseph has been working for IBM since he completed his PhD. \n"
   ]
  },
  {
   "cell_type": "markdown",
   "metadata": {},
   "source": [
    "Other contributors: <a href=\"https://www.linkedin.com/in/michelleccarey/\">Michelle Carey</a>, <a href=\"www.linkedin.com/in/jiahui-mavis-zhou-a4537814a\">Mavis Zhou</a>\n"
   ]
  },
  {
   "cell_type": "markdown",
   "metadata": {},
   "source": [
    "<!--\n",
    "## Change Log\n",
    "\n",
    "|  Date (YYYY-MM-DD) |  Version | Changed By  |  Change Description |\n",
    "|---|---|---|---|\n",
    "| 2020-09-23  | 2.0  | Srishti  |  Migrated Lab to Markdown and added to course repo in GitLab |\n",
    "\n",
    "\n",
    "\n",
    "<hr>\n",
    "-->\n",
    "## <h3 align=\"center\"> &#169; IBM Corporation. All rights reserved. <h3/>\n"
   ]
  }
 ],
 "metadata": {
  "kernelspec": {
   "display_name": "Python",
   "language": "python",
   "name": "conda-env-python-py"
  },
  "language_info": {
   "codemirror_mode": {
    "name": "ipython",
    "version": 3
   },
   "file_extension": ".py",
   "mimetype": "text/x-python",
   "name": "python",
   "nbconvert_exporter": "python",
   "pygments_lexer": "ipython3",
   "version": "3.7.12"
  }
 },
 "nbformat": 4,
 "nbformat_minor": 4
}
