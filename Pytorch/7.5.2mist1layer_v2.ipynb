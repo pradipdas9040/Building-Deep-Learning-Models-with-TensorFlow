{
 "cells": [
  {
   "cell_type": "markdown",
   "metadata": {},
   "source": [
    "<p style=\"text-align:center\">\n",
    "    <a href=\"https://skills.network\" target=\"_blank\">\n",
    "    <img src=\"https://cf-courses-data.s3.us.cloud-object-storage.appdomain.cloud/assets/logos/SN_web_lightmode.png\" width=\"200\" alt=\"Skills Network Logo\">\n",
    "    </a>\n",
    "</p>\n"
   ]
  },
  {
   "cell_type": "markdown",
   "metadata": {},
   "source": [
    "<h1>Test Sigmoid, Tanh, and Relu Activations Functions on the MNIST Dataset</h1>\n"
   ]
  },
  {
   "cell_type": "markdown",
   "metadata": {},
   "source": [
    "<h2>Objective</h2><ul><li> How to apply different activation functions on the MNIST dataset.</li></ul> \n"
   ]
  },
  {
   "cell_type": "markdown",
   "metadata": {},
   "source": [
    "<h2>Table of Contents</h2>\n",
    "<p>In this lab, you will test sigmoid, tanh, and relu activation functions on the MNIST dataset.</p>\n",
    "\n",
    "<ul>\n",
    "    <li><a href=\"#Model\">Neural Network Module and Training Function</a></li>\n",
    "    <li><a href=\"#Makeup_Data\">Make Some Data</a></li>\n",
    "    <li><a href=\"#Train\">Define Several Neural Network, Criterion Function, and Optimizer</a></li>\n",
    "    <li><a href=\"#Test\">Test Sigmoid, Tanh, and Relu</a></li>\n",
    "    <li><a href=\"#Result\">Analyze Results</a></li>\n",
    "</ul>\n",
    "<p></p>\n",
    "Estimated Time Needed: <strong>25 min</strong>\n",
    "</div>\n",
    "\n",
    "<hr>\n"
   ]
  },
  {
   "cell_type": "markdown",
   "metadata": {},
   "source": [
    "<h2>Preparation</h2>\n"
   ]
  },
  {
   "cell_type": "markdown",
   "metadata": {},
   "source": [
    "We'll need the following libraries\n"
   ]
  },
  {
   "cell_type": "code",
   "execution_count": 1,
   "metadata": {
    "tags": []
   },
   "outputs": [],
   "source": [
    "# Uncomment the following line to install the torchvision library\n",
    "# !mamba install -y torchvision\n",
    "\n",
    "# Import the libraries we need for this lab\n",
    "\n",
    "import torch\n",
    "import torch.nn as nn\n",
    "import torchvision.transforms as transforms\n",
    "import torchvision.datasets as dsets\n",
    "\n",
    "import matplotlib.pylab as plt\n",
    "import numpy as np"
   ]
  },
  {
   "cell_type": "markdown",
   "metadata": {},
   "source": [
    "<!--Empty Space for separating topics-->\n"
   ]
  },
  {
   "cell_type": "markdown",
   "metadata": {},
   "source": [
    "<h2 id=\"Model\">Neural Network Module and Training Function</h2> \n"
   ]
  },
  {
   "cell_type": "markdown",
   "metadata": {},
   "source": [
    "Define the neural network module or class using the sigmoid activation function: \n"
   ]
  },
  {
   "cell_type": "code",
   "execution_count": 2,
   "metadata": {
    "tags": []
   },
   "outputs": [],
   "source": [
    "# Build the model with sigmoid function\n",
    "\n",
    "class Net(nn.Module):\n",
    "    \n",
    "    # Constructor\n",
    "    def __init__(self, D_in, H, D_out):\n",
    "        super(Net, self).__init__()\n",
    "        self.linear1 = nn.Linear(D_in, H)\n",
    "        self.linear2 = nn.Linear(H, D_out)\n",
    "    \n",
    "    # Prediction\n",
    "    def forward(self, x):\n",
    "        x = torch.sigmoid(self.linear1(x))  \n",
    "        x = self.linear2(x)\n",
    "        return x"
   ]
  },
  {
   "cell_type": "markdown",
   "metadata": {},
   "source": [
    "\n",
    "Define the neural network module or class using the Tanh activation function:\n"
   ]
  },
  {
   "cell_type": "code",
   "execution_count": 3,
   "metadata": {
    "tags": []
   },
   "outputs": [],
   "source": [
    "# Build the model with Tanh function\n",
    "\n",
    "class NetTanh(nn.Module):\n",
    "\n",
    "    # Constructor\n",
    "    def __init__(self, D_in, H, D_out):\n",
    "        super(NetTanh, self).__init__()\n",
    "        self.linear1 = nn.Linear(D_in, H)\n",
    "        self.linear2 = nn.Linear(H, D_out)\n",
    "\n",
    "    # Prediction\n",
    "    def forward(self, x):\n",
    "        x = torch.tanh(self.linear1(x))\n",
    "        x = self.linear2(x)\n",
    "        return x"
   ]
  },
  {
   "cell_type": "markdown",
   "metadata": {},
   "source": [
    "Define the neural network module or class using the Relu activation function:\n"
   ]
  },
  {
   "cell_type": "code",
   "execution_count": 4,
   "metadata": {
    "tags": []
   },
   "outputs": [],
   "source": [
    "# Build the model with Relu function\n",
    "\n",
    "class NetRelu(nn.Module):\n",
    "\n",
    "    # Constructor\n",
    "    def __init__(self, D_in, H, D_out):\n",
    "        super(NetRelu, self).__init__()\n",
    "        self.linear1 = nn.Linear(D_in, H)\n",
    "        self.linear2 = nn.Linear(H, D_out)\n",
    "\n",
    "    # Prediction\n",
    "    def forward(self, x):\n",
    "        x = torch.relu(self.linear1(x))\n",
    "        x = self.linear2(x)\n",
    "        return x"
   ]
  },
  {
   "cell_type": "markdown",
   "metadata": {},
   "source": [
    "Define a function to train the model. In this case, the function returns a Python dictionary to store the training loss for each iteration  and accuracy on the validation data.\n"
   ]
  },
  {
   "cell_type": "code",
   "execution_count": 5,
   "metadata": {
    "tags": []
   },
   "outputs": [],
   "source": [
    "# Define the function for training the model\n",
    "\n",
    "def train(model, criterion, train_loader, validation_loader, optimizer, epochs = 100):\n",
    "    i = 0\n",
    "    useful_stuff = {'training_loss': [], 'train_accuracy': [], 'validation_accuracy': []}  \n",
    "\n",
    "    for epoch in range(1, epochs+1):\n",
    "        for i, (x, y) in enumerate(train_loader):\n",
    "            optimizer.zero_grad()\n",
    "            z = model(x.view(-1, 28 * 28))\n",
    "            loss = criterion(z, y)\n",
    "            loss.backward()\n",
    "            optimizer.step()\n",
    "            useful_stuff['training_loss'].append(loss.item())\n",
    "        train_correct = 0\n",
    "        for x, y in train_loader:\n",
    "            z = model(x.view(-1, 28 * 28))\n",
    "            _, label=torch.max(z, 1)\n",
    "            train_correct += (label == y).sum().item()\n",
    "        train_accuracy = 100 * (train_correct / len(train_dataset))\n",
    "        useful_stuff['train_accuracy'].append(train_accuracy)\n",
    "        \n",
    "        correct = 0\n",
    "        for x, y in validation_loader:\n",
    "            z = model(x.view(-1, 28 * 28))\n",
    "            _, label=torch.max(z, 1)\n",
    "            correct += (label == y).sum().item()\n",
    "        accuracy = 100 * (correct / len(validation_dataset))\n",
    "        useful_stuff['validation_accuracy'].append(accuracy)\n",
    "    \n",
    "        print(f'epoch {epoch}: train loss: {loss.item():.4f}, train accuracy: {train_accuracy:.4f}, validation accuracy: {accuracy:.4f}')\n",
    "\n",
    "    return useful_stuff"
   ]
  },
  {
   "cell_type": "markdown",
   "metadata": {},
   "source": [
    "<!--Empty Space for separating topics-->\n"
   ]
  },
  {
   "cell_type": "markdown",
   "metadata": {},
   "source": [
    "<h2 id=\"Makeup_Data\">Make Some Data</h2> \n"
   ]
  },
  {
   "cell_type": "markdown",
   "metadata": {},
   "source": [
    "Load the training dataset by setting the parameters <code>train</code> to <code>True</code> and convert it to a tensor by placing a transform object in the argument <code>transform</code>.\n"
   ]
  },
  {
   "cell_type": "code",
   "execution_count": 6,
   "metadata": {
    "tags": []
   },
   "outputs": [
    {
     "name": "stdout",
     "output_type": "stream",
     "text": [
      "Dataset MNIST\n",
      "    Number of datapoints: 60000\n",
      "    Root location: ./data\n",
      "    Split: Train\n",
      "    StandardTransform\n",
      "Transform: ToTensor()\n"
     ]
    }
   ],
   "source": [
    "# Create the training dataset\n",
    "\n",
    "train_dataset = dsets.MNIST(root='./data', train=True, download=True, transform=transforms.ToTensor())\n",
    "print(train_dataset)"
   ]
  },
  {
   "cell_type": "markdown",
   "metadata": {},
   "source": [
    "Load the testing dataset by setting the parameter <code>train</code> to <code>False</code> and convert it to a tensor by placing a transform object in the argument <code>transform</code>.\n"
   ]
  },
  {
   "cell_type": "code",
   "execution_count": 7,
   "metadata": {
    "tags": []
   },
   "outputs": [
    {
     "name": "stdout",
     "output_type": "stream",
     "text": [
      "Dataset MNIST\n",
      "    Number of datapoints: 10000\n",
      "    Root location: ./data\n",
      "    Split: Test\n",
      "    StandardTransform\n",
      "Transform: ToTensor()\n"
     ]
    }
   ],
   "source": [
    "# Create the validation  dataset\n",
    "\n",
    "validation_dataset = dsets.MNIST(root='./data', train=False, download=True, transform=transforms.ToTensor())\n",
    "print(validation_dataset)"
   ]
  },
  {
   "cell_type": "markdown",
   "metadata": {},
   "source": [
    "Create the training-data loader and the validation-data loader object:\n"
   ]
  },
  {
   "cell_type": "code",
   "execution_count": 8,
   "metadata": {
    "tags": []
   },
   "outputs": [],
   "source": [
    "# Create the training data loader and validation data loader object\n",
    "\n",
    "train_loader = torch.utils.data.DataLoader(dataset=train_dataset, batch_size=2000, shuffle=True)\n",
    "validation_loader = torch.utils.data.DataLoader(dataset=validation_dataset, batch_size=5000, shuffle=False)"
   ]
  },
  {
   "cell_type": "markdown",
   "metadata": {},
   "source": [
    "<!--Empty Space for separating topics-->\n"
   ]
  },
  {
   "cell_type": "markdown",
   "metadata": {},
   "source": [
    "<h2 id=\"Train\">Define the Neural Network, Criterion Function, Optimizer, and Train the Model</h2> \n"
   ]
  },
  {
   "cell_type": "markdown",
   "metadata": {},
   "source": [
    "Create the criterion function: \n"
   ]
  },
  {
   "cell_type": "code",
   "execution_count": 9,
   "metadata": {
    "tags": []
   },
   "outputs": [],
   "source": [
    "# Create the criterion function\n",
    "\n",
    "criterion = nn.CrossEntropyLoss()"
   ]
  },
  {
   "cell_type": "markdown",
   "metadata": {},
   "source": [
    "Create the model with 100 hidden neurons:  \n"
   ]
  },
  {
   "cell_type": "code",
   "execution_count": 10,
   "metadata": {
    "tags": []
   },
   "outputs": [],
   "source": [
    "# Create the model object\n",
    "\n",
    "input_dim = 28 * 28\n",
    "hidden_dim = 100\n",
    "output_dim = 10\n",
    "\n",
    "model = Net(input_dim, hidden_dim, output_dim)"
   ]
  },
  {
   "cell_type": "markdown",
   "metadata": {},
   "source": [
    "<!--Empty Space for separating topics-->\n"
   ]
  },
  {
   "cell_type": "markdown",
   "metadata": {},
   "source": [
    "<h2 id=\"Test\">Test Sigmoid, Tanh, and Relu</h2> \n"
   ]
  },
  {
   "cell_type": "markdown",
   "metadata": {},
   "source": [
    "Train the network by using the sigmoid activations function:\n"
   ]
  },
  {
   "cell_type": "code",
   "execution_count": 11,
   "metadata": {
    "tags": []
   },
   "outputs": [
    {
     "name": "stdout",
     "output_type": "stream",
     "text": [
      "epoch 1: train loss: 2.3100, train accuracy: 10.4467, validation accuracy: 10.2800\n",
      "epoch 2: train loss: 2.2887, train accuracy: 12.8567, validation accuracy: 12.7300\n",
      "epoch 3: train loss: 2.2786, train accuracy: 20.3800, validation accuracy: 20.4400\n",
      "epoch 4: train loss: 2.2701, train accuracy: 15.1950, validation accuracy: 15.6800\n",
      "epoch 5: train loss: 2.2657, train accuracy: 15.3583, validation accuracy: 16.2100\n",
      "epoch 6: train loss: 2.2546, train accuracy: 18.9700, validation accuracy: 19.9400\n",
      "epoch 7: train loss: 2.2487, train accuracy: 24.5067, validation accuracy: 25.7900\n",
      "epoch 8: train loss: 2.2359, train accuracy: 29.6200, validation accuracy: 31.2900\n",
      "epoch 9: train loss: 2.2279, train accuracy: 34.8700, validation accuracy: 36.2200\n",
      "epoch 10: train loss: 2.2258, train accuracy: 39.4133, validation accuracy: 40.8400\n",
      "epoch 11: train loss: 2.2141, train accuracy: 42.7400, validation accuracy: 44.3500\n",
      "epoch 12: train loss: 2.2071, train accuracy: 45.9933, validation accuracy: 47.7600\n",
      "epoch 13: train loss: 2.1966, train accuracy: 48.8667, validation accuracy: 50.0800\n",
      "epoch 14: train loss: 2.1886, train accuracy: 51.7550, validation accuracy: 53.4500\n",
      "epoch 15: train loss: 2.1753, train accuracy: 53.2367, validation accuracy: 54.9600\n",
      "epoch 16: train loss: 2.1682, train accuracy: 55.2917, validation accuracy: 57.0300\n",
      "epoch 17: train loss: 2.1570, train accuracy: 56.7400, validation accuracy: 58.3700\n",
      "epoch 18: train loss: 2.1464, train accuracy: 57.9767, validation accuracy: 59.3100\n",
      "epoch 19: train loss: 2.1345, train accuracy: 59.2067, validation accuracy: 60.4100\n",
      "epoch 20: train loss: 2.1207, train accuracy: 60.1133, validation accuracy: 61.3900\n",
      "epoch 21: train loss: 2.1093, train accuracy: 61.2883, validation accuracy: 62.4600\n",
      "epoch 22: train loss: 2.0993, train accuracy: 61.6817, validation accuracy: 62.8000\n",
      "epoch 23: train loss: 2.0812, train accuracy: 62.3717, validation accuracy: 63.4300\n",
      "epoch 24: train loss: 2.0762, train accuracy: 63.1850, validation accuracy: 64.2900\n",
      "epoch 25: train loss: 2.0469, train accuracy: 63.4983, validation accuracy: 64.4100\n",
      "epoch 26: train loss: 2.0478, train accuracy: 64.1833, validation accuracy: 65.0500\n",
      "epoch 27: train loss: 2.0301, train accuracy: 64.5917, validation accuracy: 65.4400\n",
      "epoch 28: train loss: 2.0093, train accuracy: 65.3417, validation accuracy: 66.1200\n",
      "epoch 29: train loss: 1.9975, train accuracy: 65.7183, validation accuracy: 66.5900\n",
      "epoch 30: train loss: 1.9777, train accuracy: 66.0117, validation accuracy: 66.7900\n"
     ]
    }
   ],
   "source": [
    "# Train a model with sigmoid function\n",
    "\n",
    "learning_rate = 0.01\n",
    "optimizer = torch.optim.SGD(model.parameters(), lr=learning_rate)\n",
    "training_results = train(model, criterion, train_loader, validation_loader, optimizer, epochs=30)"
   ]
  },
  {
   "cell_type": "markdown",
   "metadata": {},
   "source": [
    "Train the network by using the Tanh activations function:\n"
   ]
  },
  {
   "cell_type": "code",
   "execution_count": 12,
   "metadata": {},
   "outputs": [
    {
     "name": "stdout",
     "output_type": "stream",
     "text": [
      "epoch 1: train loss: 2.2325, train accuracy: 28.8000, validation accuracy: 30.2600\n",
      "epoch 2: train loss: 2.1298, train accuracy: 51.5667, validation accuracy: 53.4800\n",
      "epoch 3: train loss: 2.0294, train accuracy: 63.1850, validation accuracy: 64.4400\n",
      "epoch 4: train loss: 1.9238, train accuracy: 68.5133, validation accuracy: 69.2600\n",
      "epoch 5: train loss: 1.8170, train accuracy: 71.3750, validation accuracy: 72.0300\n",
      "epoch 6: train loss: 1.7063, train accuracy: 72.9633, validation accuracy: 73.5900\n",
      "epoch 7: train loss: 1.6143, train accuracy: 73.9233, validation accuracy: 74.4900\n",
      "epoch 8: train loss: 1.5038, train accuracy: 74.5950, validation accuracy: 75.4300\n",
      "epoch 9: train loss: 1.4142, train accuracy: 75.2383, validation accuracy: 76.3000\n",
      "epoch 10: train loss: 1.3333, train accuracy: 75.8983, validation accuracy: 76.9400\n",
      "epoch 11: train loss: 1.2597, train accuracy: 76.5950, validation accuracy: 77.6100\n",
      "epoch 12: train loss: 1.1990, train accuracy: 77.3267, validation accuracy: 78.4500\n",
      "epoch 13: train loss: 1.1405, train accuracy: 78.0617, validation accuracy: 79.2000\n",
      "epoch 14: train loss: 1.0799, train accuracy: 78.7467, validation accuracy: 80.0200\n",
      "epoch 15: train loss: 1.0359, train accuracy: 79.5333, validation accuracy: 80.7000\n",
      "epoch 16: train loss: 1.0018, train accuracy: 80.2150, validation accuracy: 81.1500\n",
      "epoch 17: train loss: 0.9530, train accuracy: 80.8683, validation accuracy: 81.7300\n",
      "epoch 18: train loss: 0.9361, train accuracy: 81.4117, validation accuracy: 82.2400\n",
      "epoch 19: train loss: 0.8636, train accuracy: 81.9150, validation accuracy: 82.7400\n",
      "epoch 20: train loss: 0.8511, train accuracy: 82.3533, validation accuracy: 83.1100\n",
      "epoch 21: train loss: 0.8169, train accuracy: 82.7683, validation accuracy: 83.5200\n",
      "epoch 22: train loss: 0.7739, train accuracy: 83.1467, validation accuracy: 83.9000\n",
      "epoch 23: train loss: 0.7786, train accuracy: 83.5417, validation accuracy: 84.3300\n",
      "epoch 24: train loss: 0.7831, train accuracy: 83.8517, validation accuracy: 84.7300\n",
      "epoch 25: train loss: 0.7379, train accuracy: 84.1550, validation accuracy: 85.0500\n",
      "epoch 26: train loss: 0.7308, train accuracy: 84.4333, validation accuracy: 85.3200\n",
      "epoch 27: train loss: 0.6822, train accuracy: 84.6450, validation accuracy: 85.5500\n",
      "epoch 28: train loss: 0.6670, train accuracy: 84.9233, validation accuracy: 85.7300\n",
      "epoch 29: train loss: 0.6594, train accuracy: 85.1500, validation accuracy: 85.9000\n",
      "epoch 30: train loss: 0.6493, train accuracy: 85.3300, validation accuracy: 86.1000\n"
     ]
    }
   ],
   "source": [
    "# Train a model with Tanh function\n",
    "\n",
    "model_Tanh = NetTanh(input_dim, hidden_dim, output_dim)\n",
    "optimizer = torch.optim.SGD(model_Tanh.parameters(), lr=learning_rate)\n",
    "training_results_tanch = train(model_Tanh, criterion, train_loader, validation_loader, optimizer, epochs=30)"
   ]
  },
  {
   "cell_type": "markdown",
   "metadata": {},
   "source": [
    "Train the network by using the Relu activations function:\n"
   ]
  },
  {
   "cell_type": "code",
   "execution_count": 13,
   "metadata": {},
   "outputs": [
    {
     "name": "stdout",
     "output_type": "stream",
     "text": [
      "epoch 1: train loss: 2.2727, train accuracy: 22.2383, validation accuracy: 21.5600\n",
      "epoch 2: train loss: 2.2228, train accuracy: 34.9517, validation accuracy: 34.5200\n",
      "epoch 3: train loss: 2.1705, train accuracy: 44.3833, validation accuracy: 44.2700\n",
      "epoch 4: train loss: 2.1103, train accuracy: 50.4950, validation accuracy: 50.9900\n",
      "epoch 5: train loss: 2.0318, train accuracy: 54.7333, validation accuracy: 55.5200\n",
      "epoch 6: train loss: 1.9615, train accuracy: 58.2567, validation accuracy: 58.8700\n",
      "epoch 7: train loss: 1.8602, train accuracy: 61.7450, validation accuracy: 62.4400\n",
      "epoch 8: train loss: 1.7575, train accuracy: 65.4567, validation accuracy: 65.9300\n",
      "epoch 9: train loss: 1.6734, train accuracy: 68.7417, validation accuracy: 69.0100\n",
      "epoch 10: train loss: 1.5699, train accuracy: 71.3617, validation accuracy: 71.8100\n",
      "epoch 11: train loss: 1.4711, train accuracy: 73.4500, validation accuracy: 74.1200\n",
      "epoch 12: train loss: 1.3946, train accuracy: 75.1983, validation accuracy: 76.0900\n",
      "epoch 13: train loss: 1.2818, train accuracy: 76.5700, validation accuracy: 77.4500\n",
      "epoch 14: train loss: 1.1978, train accuracy: 77.7650, validation accuracy: 78.6500\n",
      "epoch 15: train loss: 1.1486, train accuracy: 78.7867, validation accuracy: 79.6900\n",
      "epoch 16: train loss: 1.0796, train accuracy: 79.6750, validation accuracy: 80.4800\n",
      "epoch 17: train loss: 1.0544, train accuracy: 80.4200, validation accuracy: 81.1200\n",
      "epoch 18: train loss: 0.9617, train accuracy: 81.1650, validation accuracy: 81.7900\n",
      "epoch 19: train loss: 0.9263, train accuracy: 81.8217, validation accuracy: 82.2400\n",
      "epoch 20: train loss: 0.8913, train accuracy: 82.3517, validation accuracy: 82.6700\n",
      "epoch 21: train loss: 0.8258, train accuracy: 82.8183, validation accuracy: 83.1700\n",
      "epoch 22: train loss: 0.8051, train accuracy: 83.2183, validation accuracy: 83.5200\n",
      "epoch 23: train loss: 0.7932, train accuracy: 83.5767, validation accuracy: 83.8300\n",
      "epoch 24: train loss: 0.7447, train accuracy: 83.8783, validation accuracy: 84.3100\n",
      "epoch 25: train loss: 0.7052, train accuracy: 84.1750, validation accuracy: 84.7700\n",
      "epoch 26: train loss: 0.7017, train accuracy: 84.4717, validation accuracy: 85.0700\n",
      "epoch 27: train loss: 0.6790, train accuracy: 84.7133, validation accuracy: 85.5000\n",
      "epoch 28: train loss: 0.6715, train accuracy: 84.9583, validation accuracy: 85.6800\n",
      "epoch 29: train loss: 0.6776, train accuracy: 85.1417, validation accuracy: 85.8500\n",
      "epoch 30: train loss: 0.6273, train accuracy: 85.3583, validation accuracy: 86.0300\n"
     ]
    }
   ],
   "source": [
    "# Train a model with Relu function\n",
    "\n",
    "modelRelu = NetRelu(input_dim, hidden_dim, output_dim)\n",
    "optimizer = torch.optim.SGD(modelRelu.parameters(), lr=learning_rate)\n",
    "training_results_relu = train(modelRelu, criterion, train_loader, validation_loader, optimizer, epochs=30)"
   ]
  },
  {
   "cell_type": "markdown",
   "metadata": {},
   "source": [
    "<!--Empty Space for separating topics-->\n"
   ]
  },
  {
   "cell_type": "markdown",
   "metadata": {},
   "source": [
    "<h2 id=\"Result\">Analyze Results</h2> \n"
   ]
  },
  {
   "cell_type": "markdown",
   "metadata": {},
   "source": [
    "Compare the training loss for each activation: \n"
   ]
  },
  {
   "cell_type": "code",
   "execution_count": 14,
   "metadata": {},
   "outputs": [
    {
     "data": {
      "image/png": "[encoded data removed]",
      "text/plain": [
       "<Figure size 640x480 with 1 Axes>"
      ]
     },
     "metadata": {},
     "output_type": "display_data"
    }
   ],
   "source": [
    "# Compare the training loss\n",
    "\n",
    "plt.plot(training_results_tanch['training_loss'], label='tanh')\n",
    "plt.plot(training_results['training_loss'], label='sigmoid')\n",
    "plt.plot(training_results_relu['training_loss'], label='relu')\n",
    "plt.ylabel('loss')\n",
    "plt.title('training loss iterations')\n",
    "plt.legend()\n",
    "plt.show()"
   ]
  },
  {
   "cell_type": "markdown",
   "metadata": {},
   "source": [
    "Compare the validation loss for each model:  \n"
   ]
  },
  {
   "cell_type": "code",
   "execution_count": 15,
   "metadata": {},
   "outputs": [
    {
     "data": {
      "image/png": "[encoded data removed]",
      "text/plain": [
       "<Figure size 640x480 with 1 Axes>"
      ]
     },
     "metadata": {},
     "output_type": "display_data"
    }
   ],
   "source": [
    "# Compare the validation loss\n",
    "\n",
    "plt.plot(training_results_tanch['validation_accuracy'], label='tanh')\n",
    "plt.plot(training_results['validation_accuracy'], label='sigmoid')\n",
    "plt.plot(training_results_relu['validation_accuracy'], label='relu') \n",
    "plt.ylabel('validation accuracy')\n",
    "plt.xlabel('epochs ')\n",
    "plt.legend()\n",
    "plt.show()"
   ]
  },
  {
   "cell_type": "markdown",
   "metadata": {},
   "source": [
    "<!--Empty Space for separating topics-->\n"
   ]
  },
  {
   "cell_type": "markdown",
   "metadata": {},
   "source": [
    "## Which activation function performed best ?\n"
   ]
  },
  {
   "cell_type": "markdown",
   "metadata": {},
   "source": [
    "<h2>About the Authors:</h2> \n",
    "\n",
    "<a href=\"https://www.linkedin.com/in/joseph-s-50398b136/\">Joseph Santarcangelo</a> has a PhD in Electrical Engineering, his research focused on using machine learning, signal processing, and computer vision to determine how videos impact human cognition. Joseph has been working for IBM since he completed his PhD. \n"
   ]
  },
  {
   "cell_type": "markdown",
   "metadata": {},
   "source": [
    "Other contributors: <a href=\"https://www.linkedin.com/in/michelleccarey/\">Michelle Carey</a>, <a href=\"www.linkedin.com/in/jiahui-mavis-zhou-a4537814a\">Mavis Zhou</a>\n"
   ]
  },
  {
   "cell_type": "markdown",
   "metadata": {},
   "source": [
    "<!--\n",
    "## Change Log\n",
    "\n",
    "|  Date (YYYY-MM-DD) |  Version | Changed By  |  Change Description |\n",
    "|---|---|---|---|\n",
    "| 2020-09-23  | 2.0  | Shubham  |  Migrated Lab to Markdown and added to course repo in GitLab |\n",
    "-->\n"
   ]
  },
  {
   "cell_type": "markdown",
   "metadata": {},
   "source": [
    "<hr>\n"
   ]
  },
  {
   "cell_type": "markdown",
   "metadata": {},
   "source": [
    "\n",
    "\n",
    "\n",
    "## <h3 align=\"center\"> &#169; IBM Corporation. All rights reserved. <h3/>\n"
   ]
  }
 ],
 "metadata": {
  "kernelspec": {
   "display_name": "Python",
   "language": "python",
   "name": "conda-env-python-py"
  },
  "language_info": {
   "codemirror_mode": {
    "name": "ipython",
    "version": 3
   },
   "file_extension": ".py",
   "mimetype": "text/x-python",
   "name": "python",
   "nbconvert_exporter": "python",
   "pygments_lexer": "ipython3",
   "version": "3.7.12"
  }
 },
 "nbformat": 4,
 "nbformat_minor": 4
}
